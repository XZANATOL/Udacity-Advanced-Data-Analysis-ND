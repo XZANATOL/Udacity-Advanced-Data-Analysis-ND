{
 "cells": [
  {
   "cell_type": "markdown",
   "metadata": {},
   "source": [
    "# Project: Investigate a Dataset (tmdb_movie.csv)\n",
    "\n",
    "## Table of Contents\n",
    "<ul>\n",
    "<li><a href=\"#intro\">Introduction</a></li>\n",
    "<li><a href=\"#wrangling\">Data Wrangling</a></li>\n",
    "<li><a href=\"#eda\">Exploratory Data Analysis</a></li>\n",
    "<li><a href=\"#conclusions\">Conclusions</a></li>\n",
    "</ul>"
   ]
  },
  {
   "cell_type": "markdown",
   "metadata": {},
   "source": [
    "<a id='intro'></a>\n",
    "## Introduction\n",
    "\n",
    "># Overview\n",
    ">For Completing the first project in my advanced data analysis course, I have choosed this dataset.\n",
    ">\n",
    ">This data set contains information about 10,000 movies (10866 movies to be exact) collected from The Movie Database (TMDb), including user ratings and revenue. It is formed up of 21 columns that includes movie: id, director, tagline, genre, vote count, and more.\n",
    ">\n",
    "># Questions I have choosed to analyse from this dataset\n",
    ">\n",
    "> 01) Which year was dominante in terms of movie production?<br/>\n",
    "> 02) Was that year dominant in terms of profits?<br/>\n",
    "> 03) Which movie has the highest profit and which one has the least?<br/>\n",
    "> 04) Are there any movies that had no profits? which ones and what was its production year?<br/>\n",
    "> 05) Does the runtime duration affect the movie votes?<br/>\n",
    "> 06) Does movies runtime duration increase through each year?<br/>\n",
    "> 07) what is the pobularity average for different movies runtime?<br/>\n",
    "> 08) Which movies has the longest and shortest runtime?<br/>\n",
    "> 09) Who are the common directors between all of these movies?<br/>\n",
    "> 10) What are these directors reputations in movies?<br/>\n",
    "> 11) What are the successful genres?<br/>\n",
    "> 12) What genres attract more viewers?<br/>\n",
    "> 13) What are the most popular genres between viewers?\n",
    "> 14) Who made the most casts?"
   ]
  },
  {
   "cell_type": "code",
   "execution_count": 1,
   "metadata": {},
   "outputs": [],
   "source": [
    "# Use this cell to set up import statements for all of the packages that you plan to use.\n",
    "# Imports\n",
    "import pandas as pd\n",
    "import numpy as np\n",
    "import matplotlib.pyplot as plt\n",
    "\n",
    "# Remember to include a 'magic word' so that your visualizations are plotted\n",
    "%matplotlib inline"
   ]
  },
  {
   "cell_type": "markdown",
   "metadata": {},
   "source": [
    "<a id='wrangling'></a>\n",
    "## Data Wrangling\n",
    "\n",
    "> After looking at the head of the dataset and comparing it with the proposed questions. I will be deleting the unnecessary columns keeping only the usefull ones for my analysis.\n",
    "\n",
    "### General Properties"
   ]
  },
  {
   "cell_type": "code",
   "execution_count": 2,
   "metadata": {},
   "outputs": [
    {
     "data": {
      "text/html": [
       "<div>\n",
       "<style scoped>\n",
       "    .dataframe tbody tr th:only-of-type {\n",
       "        vertical-align: middle;\n",
       "    }\n",
       "\n",
       "    .dataframe tbody tr th {\n",
       "        vertical-align: top;\n",
       "    }\n",
       "\n",
       "    .dataframe thead th {\n",
       "        text-align: right;\n",
       "    }\n",
       "</style>\n",
       "<table border=\"1\" class=\"dataframe\">\n",
       "  <thead>\n",
       "    <tr style=\"text-align: right;\">\n",
       "      <th></th>\n",
       "      <th>id</th>\n",
       "      <th>imdb_id</th>\n",
       "      <th>popularity</th>\n",
       "      <th>budget</th>\n",
       "      <th>revenue</th>\n",
       "      <th>original_title</th>\n",
       "      <th>cast</th>\n",
       "      <th>homepage</th>\n",
       "      <th>director</th>\n",
       "      <th>tagline</th>\n",
       "      <th>...</th>\n",
       "      <th>overview</th>\n",
       "      <th>runtime</th>\n",
       "      <th>genres</th>\n",
       "      <th>production_companies</th>\n",
       "      <th>release_date</th>\n",
       "      <th>vote_count</th>\n",
       "      <th>vote_average</th>\n",
       "      <th>release_year</th>\n",
       "      <th>budget_adj</th>\n",
       "      <th>revenue_adj</th>\n",
       "    </tr>\n",
       "  </thead>\n",
       "  <tbody>\n",
       "    <tr>\n",
       "      <th>0</th>\n",
       "      <td>135397</td>\n",
       "      <td>tt0369610</td>\n",
       "      <td>32.985763</td>\n",
       "      <td>150000000</td>\n",
       "      <td>1513528810</td>\n",
       "      <td>Jurassic World</td>\n",
       "      <td>Chris Pratt|Bryce Dallas Howard|Irrfan Khan|Vi...</td>\n",
       "      <td>http://www.jurassicworld.com/</td>\n",
       "      <td>Colin Trevorrow</td>\n",
       "      <td>The park is open.</td>\n",
       "      <td>...</td>\n",
       "      <td>Twenty-two years after the events of Jurassic ...</td>\n",
       "      <td>124</td>\n",
       "      <td>Action|Adventure|Science Fiction|Thriller</td>\n",
       "      <td>Universal Studios|Amblin Entertainment|Legenda...</td>\n",
       "      <td>6/9/15</td>\n",
       "      <td>5562</td>\n",
       "      <td>6.5</td>\n",
       "      <td>2015</td>\n",
       "      <td>1.379999e+08</td>\n",
       "      <td>1.392446e+09</td>\n",
       "    </tr>\n",
       "    <tr>\n",
       "      <th>1</th>\n",
       "      <td>76341</td>\n",
       "      <td>tt1392190</td>\n",
       "      <td>28.419936</td>\n",
       "      <td>150000000</td>\n",
       "      <td>378436354</td>\n",
       "      <td>Mad Max: Fury Road</td>\n",
       "      <td>Tom Hardy|Charlize Theron|Hugh Keays-Byrne|Nic...</td>\n",
       "      <td>http://www.madmaxmovie.com/</td>\n",
       "      <td>George Miller</td>\n",
       "      <td>What a Lovely Day.</td>\n",
       "      <td>...</td>\n",
       "      <td>An apocalyptic story set in the furthest reach...</td>\n",
       "      <td>120</td>\n",
       "      <td>Action|Adventure|Science Fiction|Thriller</td>\n",
       "      <td>Village Roadshow Pictures|Kennedy Miller Produ...</td>\n",
       "      <td>5/13/15</td>\n",
       "      <td>6185</td>\n",
       "      <td>7.1</td>\n",
       "      <td>2015</td>\n",
       "      <td>1.379999e+08</td>\n",
       "      <td>3.481613e+08</td>\n",
       "    </tr>\n",
       "    <tr>\n",
       "      <th>2</th>\n",
       "      <td>262500</td>\n",
       "      <td>tt2908446</td>\n",
       "      <td>13.112507</td>\n",
       "      <td>110000000</td>\n",
       "      <td>295238201</td>\n",
       "      <td>Insurgent</td>\n",
       "      <td>Shailene Woodley|Theo James|Kate Winslet|Ansel...</td>\n",
       "      <td>http://www.thedivergentseries.movie/#insurgent</td>\n",
       "      <td>Robert Schwentke</td>\n",
       "      <td>One Choice Can Destroy You</td>\n",
       "      <td>...</td>\n",
       "      <td>Beatrice Prior must confront her inner demons ...</td>\n",
       "      <td>119</td>\n",
       "      <td>Adventure|Science Fiction|Thriller</td>\n",
       "      <td>Summit Entertainment|Mandeville Films|Red Wago...</td>\n",
       "      <td>3/18/15</td>\n",
       "      <td>2480</td>\n",
       "      <td>6.3</td>\n",
       "      <td>2015</td>\n",
       "      <td>1.012000e+08</td>\n",
       "      <td>2.716190e+08</td>\n",
       "    </tr>\n",
       "    <tr>\n",
       "      <th>3</th>\n",
       "      <td>140607</td>\n",
       "      <td>tt2488496</td>\n",
       "      <td>11.173104</td>\n",
       "      <td>200000000</td>\n",
       "      <td>2068178225</td>\n",
       "      <td>Star Wars: The Force Awakens</td>\n",
       "      <td>Harrison Ford|Mark Hamill|Carrie Fisher|Adam D...</td>\n",
       "      <td>http://www.starwars.com/films/star-wars-episod...</td>\n",
       "      <td>J.J. Abrams</td>\n",
       "      <td>Every generation has a story.</td>\n",
       "      <td>...</td>\n",
       "      <td>Thirty years after defeating the Galactic Empi...</td>\n",
       "      <td>136</td>\n",
       "      <td>Action|Adventure|Science Fiction|Fantasy</td>\n",
       "      <td>Lucasfilm|Truenorth Productions|Bad Robot</td>\n",
       "      <td>12/15/15</td>\n",
       "      <td>5292</td>\n",
       "      <td>7.5</td>\n",
       "      <td>2015</td>\n",
       "      <td>1.839999e+08</td>\n",
       "      <td>1.902723e+09</td>\n",
       "    </tr>\n",
       "    <tr>\n",
       "      <th>4</th>\n",
       "      <td>168259</td>\n",
       "      <td>tt2820852</td>\n",
       "      <td>9.335014</td>\n",
       "      <td>190000000</td>\n",
       "      <td>1506249360</td>\n",
       "      <td>Furious 7</td>\n",
       "      <td>Vin Diesel|Paul Walker|Jason Statham|Michelle ...</td>\n",
       "      <td>http://www.furious7.com/</td>\n",
       "      <td>James Wan</td>\n",
       "      <td>Vengeance Hits Home</td>\n",
       "      <td>...</td>\n",
       "      <td>Deckard Shaw seeks revenge against Dominic Tor...</td>\n",
       "      <td>137</td>\n",
       "      <td>Action|Crime|Thriller</td>\n",
       "      <td>Universal Pictures|Original Film|Media Rights ...</td>\n",
       "      <td>4/1/15</td>\n",
       "      <td>2947</td>\n",
       "      <td>7.3</td>\n",
       "      <td>2015</td>\n",
       "      <td>1.747999e+08</td>\n",
       "      <td>1.385749e+09</td>\n",
       "    </tr>\n",
       "    <tr>\n",
       "      <th>5</th>\n",
       "      <td>281957</td>\n",
       "      <td>tt1663202</td>\n",
       "      <td>9.110700</td>\n",
       "      <td>135000000</td>\n",
       "      <td>532950503</td>\n",
       "      <td>The Revenant</td>\n",
       "      <td>Leonardo DiCaprio|Tom Hardy|Will Poulter|Domhn...</td>\n",
       "      <td>http://www.foxmovies.com/movies/the-revenant</td>\n",
       "      <td>Alejandro GonzÃ¡lez IÃ±Ã¡rritu</td>\n",
       "      <td>(n. One who has returned, as if from the dead.)</td>\n",
       "      <td>...</td>\n",
       "      <td>In the 1820s, a frontiersman, Hugh Glass, sets...</td>\n",
       "      <td>156</td>\n",
       "      <td>Western|Drama|Adventure|Thriller</td>\n",
       "      <td>Regency Enterprises|Appian Way|CatchPlay|Anony...</td>\n",
       "      <td>12/25/15</td>\n",
       "      <td>3929</td>\n",
       "      <td>7.2</td>\n",
       "      <td>2015</td>\n",
       "      <td>1.241999e+08</td>\n",
       "      <td>4.903142e+08</td>\n",
       "    </tr>\n",
       "    <tr>\n",
       "      <th>6</th>\n",
       "      <td>87101</td>\n",
       "      <td>tt1340138</td>\n",
       "      <td>8.654359</td>\n",
       "      <td>155000000</td>\n",
       "      <td>440603537</td>\n",
       "      <td>Terminator Genisys</td>\n",
       "      <td>Arnold Schwarzenegger|Jason Clarke|Emilia Clar...</td>\n",
       "      <td>http://www.terminatormovie.com/</td>\n",
       "      <td>Alan Taylor</td>\n",
       "      <td>Reset the future</td>\n",
       "      <td>...</td>\n",
       "      <td>The year is 2029. John Connor, leader of the r...</td>\n",
       "      <td>125</td>\n",
       "      <td>Science Fiction|Action|Thriller|Adventure</td>\n",
       "      <td>Paramount Pictures|Skydance Productions</td>\n",
       "      <td>6/23/15</td>\n",
       "      <td>2598</td>\n",
       "      <td>5.8</td>\n",
       "      <td>2015</td>\n",
       "      <td>1.425999e+08</td>\n",
       "      <td>4.053551e+08</td>\n",
       "    </tr>\n",
       "    <tr>\n",
       "      <th>7</th>\n",
       "      <td>286217</td>\n",
       "      <td>tt3659388</td>\n",
       "      <td>7.667400</td>\n",
       "      <td>108000000</td>\n",
       "      <td>595380321</td>\n",
       "      <td>The Martian</td>\n",
       "      <td>Matt Damon|Jessica Chastain|Kristen Wiig|Jeff ...</td>\n",
       "      <td>http://www.foxmovies.com/movies/the-martian</td>\n",
       "      <td>Ridley Scott</td>\n",
       "      <td>Bring Him Home</td>\n",
       "      <td>...</td>\n",
       "      <td>During a manned mission to Mars, Astronaut Mar...</td>\n",
       "      <td>141</td>\n",
       "      <td>Drama|Adventure|Science Fiction</td>\n",
       "      <td>Twentieth Century Fox Film Corporation|Scott F...</td>\n",
       "      <td>9/30/15</td>\n",
       "      <td>4572</td>\n",
       "      <td>7.6</td>\n",
       "      <td>2015</td>\n",
       "      <td>9.935996e+07</td>\n",
       "      <td>5.477497e+08</td>\n",
       "    </tr>\n",
       "    <tr>\n",
       "      <th>8</th>\n",
       "      <td>211672</td>\n",
       "      <td>tt2293640</td>\n",
       "      <td>7.404165</td>\n",
       "      <td>74000000</td>\n",
       "      <td>1156730962</td>\n",
       "      <td>Minions</td>\n",
       "      <td>Sandra Bullock|Jon Hamm|Michael Keaton|Allison...</td>\n",
       "      <td>http://www.minionsmovie.com/</td>\n",
       "      <td>Kyle Balda|Pierre Coffin</td>\n",
       "      <td>Before Gru, they had a history of bad bosses</td>\n",
       "      <td>...</td>\n",
       "      <td>Minions Stuart, Kevin and Bob are recruited by...</td>\n",
       "      <td>91</td>\n",
       "      <td>Family|Animation|Adventure|Comedy</td>\n",
       "      <td>Universal Pictures|Illumination Entertainment</td>\n",
       "      <td>6/17/15</td>\n",
       "      <td>2893</td>\n",
       "      <td>6.5</td>\n",
       "      <td>2015</td>\n",
       "      <td>6.807997e+07</td>\n",
       "      <td>1.064192e+09</td>\n",
       "    </tr>\n",
       "    <tr>\n",
       "      <th>9</th>\n",
       "      <td>150540</td>\n",
       "      <td>tt2096673</td>\n",
       "      <td>6.326804</td>\n",
       "      <td>175000000</td>\n",
       "      <td>853708609</td>\n",
       "      <td>Inside Out</td>\n",
       "      <td>Amy Poehler|Phyllis Smith|Richard Kind|Bill Ha...</td>\n",
       "      <td>http://movies.disney.com/inside-out</td>\n",
       "      <td>Pete Docter</td>\n",
       "      <td>Meet the little voices inside your head.</td>\n",
       "      <td>...</td>\n",
       "      <td>Growing up can be a bumpy road, and it's no ex...</td>\n",
       "      <td>94</td>\n",
       "      <td>Comedy|Animation|Family</td>\n",
       "      <td>Walt Disney Pictures|Pixar Animation Studios|W...</td>\n",
       "      <td>6/9/15</td>\n",
       "      <td>3935</td>\n",
       "      <td>8.0</td>\n",
       "      <td>2015</td>\n",
       "      <td>1.609999e+08</td>\n",
       "      <td>7.854116e+08</td>\n",
       "    </tr>\n",
       "  </tbody>\n",
       "</table>\n",
       "<p>10 rows × 21 columns</p>\n",
       "</div>"
      ],
      "text/plain": [
       "       id    imdb_id  popularity     budget     revenue  \\\n",
       "0  135397  tt0369610   32.985763  150000000  1513528810   \n",
       "1   76341  tt1392190   28.419936  150000000   378436354   \n",
       "2  262500  tt2908446   13.112507  110000000   295238201   \n",
       "3  140607  tt2488496   11.173104  200000000  2068178225   \n",
       "4  168259  tt2820852    9.335014  190000000  1506249360   \n",
       "5  281957  tt1663202    9.110700  135000000   532950503   \n",
       "6   87101  tt1340138    8.654359  155000000   440603537   \n",
       "7  286217  tt3659388    7.667400  108000000   595380321   \n",
       "8  211672  tt2293640    7.404165   74000000  1156730962   \n",
       "9  150540  tt2096673    6.326804  175000000   853708609   \n",
       "\n",
       "                 original_title  \\\n",
       "0                Jurassic World   \n",
       "1            Mad Max: Fury Road   \n",
       "2                     Insurgent   \n",
       "3  Star Wars: The Force Awakens   \n",
       "4                     Furious 7   \n",
       "5                  The Revenant   \n",
       "6            Terminator Genisys   \n",
       "7                   The Martian   \n",
       "8                       Minions   \n",
       "9                    Inside Out   \n",
       "\n",
       "                                                cast  \\\n",
       "0  Chris Pratt|Bryce Dallas Howard|Irrfan Khan|Vi...   \n",
       "1  Tom Hardy|Charlize Theron|Hugh Keays-Byrne|Nic...   \n",
       "2  Shailene Woodley|Theo James|Kate Winslet|Ansel...   \n",
       "3  Harrison Ford|Mark Hamill|Carrie Fisher|Adam D...   \n",
       "4  Vin Diesel|Paul Walker|Jason Statham|Michelle ...   \n",
       "5  Leonardo DiCaprio|Tom Hardy|Will Poulter|Domhn...   \n",
       "6  Arnold Schwarzenegger|Jason Clarke|Emilia Clar...   \n",
       "7  Matt Damon|Jessica Chastain|Kristen Wiig|Jeff ...   \n",
       "8  Sandra Bullock|Jon Hamm|Michael Keaton|Allison...   \n",
       "9  Amy Poehler|Phyllis Smith|Richard Kind|Bill Ha...   \n",
       "\n",
       "                                            homepage  \\\n",
       "0                      http://www.jurassicworld.com/   \n",
       "1                        http://www.madmaxmovie.com/   \n",
       "2     http://www.thedivergentseries.movie/#insurgent   \n",
       "3  http://www.starwars.com/films/star-wars-episod...   \n",
       "4                           http://www.furious7.com/   \n",
       "5       http://www.foxmovies.com/movies/the-revenant   \n",
       "6                    http://www.terminatormovie.com/   \n",
       "7        http://www.foxmovies.com/movies/the-martian   \n",
       "8                       http://www.minionsmovie.com/   \n",
       "9                http://movies.disney.com/inside-out   \n",
       "\n",
       "                         director  \\\n",
       "0                 Colin Trevorrow   \n",
       "1                   George Miller   \n",
       "2                Robert Schwentke   \n",
       "3                     J.J. Abrams   \n",
       "4                       James Wan   \n",
       "5  Alejandro GonzÃ¡lez IÃ±Ã¡rritu   \n",
       "6                     Alan Taylor   \n",
       "7                    Ridley Scott   \n",
       "8        Kyle Balda|Pierre Coffin   \n",
       "9                     Pete Docter   \n",
       "\n",
       "                                           tagline  ...  \\\n",
       "0                                The park is open.  ...   \n",
       "1                               What a Lovely Day.  ...   \n",
       "2                       One Choice Can Destroy You  ...   \n",
       "3                    Every generation has a story.  ...   \n",
       "4                              Vengeance Hits Home  ...   \n",
       "5  (n. One who has returned, as if from the dead.)  ...   \n",
       "6                                 Reset the future  ...   \n",
       "7                                   Bring Him Home  ...   \n",
       "8     Before Gru, they had a history of bad bosses  ...   \n",
       "9         Meet the little voices inside your head.  ...   \n",
       "\n",
       "                                            overview runtime  \\\n",
       "0  Twenty-two years after the events of Jurassic ...     124   \n",
       "1  An apocalyptic story set in the furthest reach...     120   \n",
       "2  Beatrice Prior must confront her inner demons ...     119   \n",
       "3  Thirty years after defeating the Galactic Empi...     136   \n",
       "4  Deckard Shaw seeks revenge against Dominic Tor...     137   \n",
       "5  In the 1820s, a frontiersman, Hugh Glass, sets...     156   \n",
       "6  The year is 2029. John Connor, leader of the r...     125   \n",
       "7  During a manned mission to Mars, Astronaut Mar...     141   \n",
       "8  Minions Stuart, Kevin and Bob are recruited by...      91   \n",
       "9  Growing up can be a bumpy road, and it's no ex...      94   \n",
       "\n",
       "                                      genres  \\\n",
       "0  Action|Adventure|Science Fiction|Thriller   \n",
       "1  Action|Adventure|Science Fiction|Thriller   \n",
       "2         Adventure|Science Fiction|Thriller   \n",
       "3   Action|Adventure|Science Fiction|Fantasy   \n",
       "4                      Action|Crime|Thriller   \n",
       "5           Western|Drama|Adventure|Thriller   \n",
       "6  Science Fiction|Action|Thriller|Adventure   \n",
       "7            Drama|Adventure|Science Fiction   \n",
       "8          Family|Animation|Adventure|Comedy   \n",
       "9                    Comedy|Animation|Family   \n",
       "\n",
       "                                production_companies release_date vote_count  \\\n",
       "0  Universal Studios|Amblin Entertainment|Legenda...       6/9/15       5562   \n",
       "1  Village Roadshow Pictures|Kennedy Miller Produ...      5/13/15       6185   \n",
       "2  Summit Entertainment|Mandeville Films|Red Wago...      3/18/15       2480   \n",
       "3          Lucasfilm|Truenorth Productions|Bad Robot     12/15/15       5292   \n",
       "4  Universal Pictures|Original Film|Media Rights ...       4/1/15       2947   \n",
       "5  Regency Enterprises|Appian Way|CatchPlay|Anony...     12/25/15       3929   \n",
       "6            Paramount Pictures|Skydance Productions      6/23/15       2598   \n",
       "7  Twentieth Century Fox Film Corporation|Scott F...      9/30/15       4572   \n",
       "8      Universal Pictures|Illumination Entertainment      6/17/15       2893   \n",
       "9  Walt Disney Pictures|Pixar Animation Studios|W...       6/9/15       3935   \n",
       "\n",
       "   vote_average  release_year    budget_adj   revenue_adj  \n",
       "0           6.5          2015  1.379999e+08  1.392446e+09  \n",
       "1           7.1          2015  1.379999e+08  3.481613e+08  \n",
       "2           6.3          2015  1.012000e+08  2.716190e+08  \n",
       "3           7.5          2015  1.839999e+08  1.902723e+09  \n",
       "4           7.3          2015  1.747999e+08  1.385749e+09  \n",
       "5           7.2          2015  1.241999e+08  4.903142e+08  \n",
       "6           5.8          2015  1.425999e+08  4.053551e+08  \n",
       "7           7.6          2015  9.935996e+07  5.477497e+08  \n",
       "8           6.5          2015  6.807997e+07  1.064192e+09  \n",
       "9           8.0          2015  1.609999e+08  7.854116e+08  \n",
       "\n",
       "[10 rows x 21 columns]"
      ]
     },
     "execution_count": 2,
     "metadata": {},
     "output_type": "execute_result"
    }
   ],
   "source": [
    "# Load your data and print out a few lines.\n",
    "# Loading the dataset into a dataframe variable (df)\n",
    "df = pd.read_csv(\"tmdb-movies.csv\")\n",
    "# Printing the first 10 lines of the dataset\n",
    "df.head(10)"
   ]
  },
  {
   "cell_type": "markdown",
   "metadata": {},
   "source": [
    "<br/>"
   ]
  },
  {
   "cell_type": "code",
   "execution_count": 3,
   "metadata": {},
   "outputs": [
    {
     "data": {
      "text/html": [
       "<div>\n",
       "<style scoped>\n",
       "    .dataframe tbody tr th:only-of-type {\n",
       "        vertical-align: middle;\n",
       "    }\n",
       "\n",
       "    .dataframe tbody tr th {\n",
       "        vertical-align: top;\n",
       "    }\n",
       "\n",
       "    .dataframe thead th {\n",
       "        text-align: right;\n",
       "    }\n",
       "</style>\n",
       "<table border=\"1\" class=\"dataframe\">\n",
       "  <thead>\n",
       "    <tr style=\"text-align: right;\">\n",
       "      <th></th>\n",
       "      <th>id</th>\n",
       "      <th>imdb_id</th>\n",
       "      <th>popularity</th>\n",
       "      <th>budget</th>\n",
       "      <th>revenue</th>\n",
       "      <th>original_title</th>\n",
       "      <th>cast</th>\n",
       "      <th>homepage</th>\n",
       "      <th>director</th>\n",
       "      <th>tagline</th>\n",
       "      <th>...</th>\n",
       "      <th>overview</th>\n",
       "      <th>runtime</th>\n",
       "      <th>genres</th>\n",
       "      <th>production_companies</th>\n",
       "      <th>release_date</th>\n",
       "      <th>vote_count</th>\n",
       "      <th>vote_average</th>\n",
       "      <th>release_year</th>\n",
       "      <th>budget_adj</th>\n",
       "      <th>revenue_adj</th>\n",
       "    </tr>\n",
       "  </thead>\n",
       "  <tbody>\n",
       "    <tr>\n",
       "      <th>10846</th>\n",
       "      <td>17102</td>\n",
       "      <td>tt0059127</td>\n",
       "      <td>0.212716</td>\n",
       "      <td>0</td>\n",
       "      <td>0</td>\n",
       "      <td>Dracula: Prince of Darkness</td>\n",
       "      <td>Christopher Lee|Barbara Shelley|Andrew Keir|Fr...</td>\n",
       "      <td>NaN</td>\n",
       "      <td>Terence Fisher</td>\n",
       "      <td>DEAD for Ten Years DRACULA, Prince of Darkness...</td>\n",
       "      <td>...</td>\n",
       "      <td>Whilst vacationing in the Carpathian Mountain,...</td>\n",
       "      <td>90</td>\n",
       "      <td>Horror</td>\n",
       "      <td>Seven Arts Productions|Hammer Film Productions</td>\n",
       "      <td>1/9/66</td>\n",
       "      <td>16</td>\n",
       "      <td>5.7</td>\n",
       "      <td>1966</td>\n",
       "      <td>0.000000e+00</td>\n",
       "      <td>0.000000e+00</td>\n",
       "    </tr>\n",
       "    <tr>\n",
       "      <th>10847</th>\n",
       "      <td>28763</td>\n",
       "      <td>tt0060548</td>\n",
       "      <td>0.034555</td>\n",
       "      <td>0</td>\n",
       "      <td>0</td>\n",
       "      <td>Island of Terror</td>\n",
       "      <td>Peter Cushing|Edward Judd|Carole Gray|Eddie By...</td>\n",
       "      <td>NaN</td>\n",
       "      <td>Terence Fisher</td>\n",
       "      <td>How could they stop the devouring death...that...</td>\n",
       "      <td>...</td>\n",
       "      <td>A small island community is overrun with creep...</td>\n",
       "      <td>89</td>\n",
       "      <td>Science Fiction|Horror</td>\n",
       "      <td>Planet Film Productions|Protelco</td>\n",
       "      <td>6/20/66</td>\n",
       "      <td>13</td>\n",
       "      <td>5.3</td>\n",
       "      <td>1966</td>\n",
       "      <td>0.000000e+00</td>\n",
       "      <td>0.000000e+00</td>\n",
       "    </tr>\n",
       "    <tr>\n",
       "      <th>10848</th>\n",
       "      <td>2161</td>\n",
       "      <td>tt0060397</td>\n",
       "      <td>0.207257</td>\n",
       "      <td>5115000</td>\n",
       "      <td>12000000</td>\n",
       "      <td>Fantastic Voyage</td>\n",
       "      <td>Stephen Boyd|Raquel Welch|Edmond O'Brien|Donal...</td>\n",
       "      <td>NaN</td>\n",
       "      <td>Richard Fleischer</td>\n",
       "      <td>A Fantastic and Spectacular Voyage... Through ...</td>\n",
       "      <td>...</td>\n",
       "      <td>The science of miniaturization has been unlock...</td>\n",
       "      <td>100</td>\n",
       "      <td>Adventure|Science Fiction</td>\n",
       "      <td>Twentieth Century Fox Film Corporation</td>\n",
       "      <td>8/24/66</td>\n",
       "      <td>42</td>\n",
       "      <td>6.7</td>\n",
       "      <td>1966</td>\n",
       "      <td>3.436265e+07</td>\n",
       "      <td>8.061618e+07</td>\n",
       "    </tr>\n",
       "    <tr>\n",
       "      <th>10849</th>\n",
       "      <td>28270</td>\n",
       "      <td>tt0060445</td>\n",
       "      <td>0.206537</td>\n",
       "      <td>0</td>\n",
       "      <td>0</td>\n",
       "      <td>Gambit</td>\n",
       "      <td>Michael Caine|Shirley MacLaine|Herbert Lom|Joh...</td>\n",
       "      <td>NaN</td>\n",
       "      <td>Ronald Neame</td>\n",
       "      <td>Shirley MacLaine raises Michael Caine!</td>\n",
       "      <td>...</td>\n",
       "      <td>Harry Dean (Michael Caine) has a perfect plan ...</td>\n",
       "      <td>109</td>\n",
       "      <td>Action|Comedy|Crime</td>\n",
       "      <td>Universal Pictures</td>\n",
       "      <td>12/16/66</td>\n",
       "      <td>14</td>\n",
       "      <td>6.1</td>\n",
       "      <td>1966</td>\n",
       "      <td>0.000000e+00</td>\n",
       "      <td>0.000000e+00</td>\n",
       "    </tr>\n",
       "    <tr>\n",
       "      <th>10850</th>\n",
       "      <td>26268</td>\n",
       "      <td>tt0060490</td>\n",
       "      <td>0.202473</td>\n",
       "      <td>0</td>\n",
       "      <td>0</td>\n",
       "      <td>Harper</td>\n",
       "      <td>Paul Newman|Lauren Bacall|Julie Harris|Arthur ...</td>\n",
       "      <td>NaN</td>\n",
       "      <td>Jack Smight</td>\n",
       "      <td>Harper takes a case - and the payoff is murder.</td>\n",
       "      <td>...</td>\n",
       "      <td>Harper is a cynical private eye in the best tr...</td>\n",
       "      <td>121</td>\n",
       "      <td>Action|Drama|Thriller|Crime|Mystery</td>\n",
       "      <td>Warner Bros.</td>\n",
       "      <td>2/23/66</td>\n",
       "      <td>14</td>\n",
       "      <td>6.0</td>\n",
       "      <td>1966</td>\n",
       "      <td>0.000000e+00</td>\n",
       "      <td>0.000000e+00</td>\n",
       "    </tr>\n",
       "    <tr>\n",
       "      <th>10851</th>\n",
       "      <td>15347</td>\n",
       "      <td>tt0060182</td>\n",
       "      <td>0.342791</td>\n",
       "      <td>0</td>\n",
       "      <td>0</td>\n",
       "      <td>Born Free</td>\n",
       "      <td>Virginia McKenna|Bill Travers|Geoffrey Keen|Pe...</td>\n",
       "      <td>NaN</td>\n",
       "      <td>James Hill</td>\n",
       "      <td>From The Pages Of The Beloved Best Seller... A...</td>\n",
       "      <td>...</td>\n",
       "      <td>Born Free (1966) is an Open Road Films Ltd./Co...</td>\n",
       "      <td>95</td>\n",
       "      <td>Adventure|Drama|Action|Family|Foreign</td>\n",
       "      <td>High Road</td>\n",
       "      <td>6/22/66</td>\n",
       "      <td>15</td>\n",
       "      <td>6.6</td>\n",
       "      <td>1966</td>\n",
       "      <td>0.000000e+00</td>\n",
       "      <td>0.000000e+00</td>\n",
       "    </tr>\n",
       "    <tr>\n",
       "      <th>10852</th>\n",
       "      <td>37301</td>\n",
       "      <td>tt0060165</td>\n",
       "      <td>0.227220</td>\n",
       "      <td>0</td>\n",
       "      <td>0</td>\n",
       "      <td>A Big Hand for the Little Lady</td>\n",
       "      <td>Henry Fonda|Joanne Woodward|Jason Robards|Paul...</td>\n",
       "      <td>NaN</td>\n",
       "      <td>Fielder Cook</td>\n",
       "      <td>All the action you can take...all the adventur...</td>\n",
       "      <td>...</td>\n",
       "      <td>A naive traveler in Laredo gets involved in a ...</td>\n",
       "      <td>95</td>\n",
       "      <td>Western</td>\n",
       "      <td>Eden Productions Inc.</td>\n",
       "      <td>5/31/66</td>\n",
       "      <td>11</td>\n",
       "      <td>6.0</td>\n",
       "      <td>1966</td>\n",
       "      <td>0.000000e+00</td>\n",
       "      <td>0.000000e+00</td>\n",
       "    </tr>\n",
       "    <tr>\n",
       "      <th>10853</th>\n",
       "      <td>15598</td>\n",
       "      <td>tt0060086</td>\n",
       "      <td>0.163592</td>\n",
       "      <td>0</td>\n",
       "      <td>0</td>\n",
       "      <td>Alfie</td>\n",
       "      <td>Michael Caine|Shelley Winters|Millicent Martin...</td>\n",
       "      <td>NaN</td>\n",
       "      <td>Lewis Gilbert</td>\n",
       "      <td>Is any man an Alfie? Ask any girl!</td>\n",
       "      <td>...</td>\n",
       "      <td>The film tells the story of a young man who le...</td>\n",
       "      <td>114</td>\n",
       "      <td>Comedy|Drama|Romance</td>\n",
       "      <td>NaN</td>\n",
       "      <td>3/29/66</td>\n",
       "      <td>26</td>\n",
       "      <td>6.2</td>\n",
       "      <td>1966</td>\n",
       "      <td>0.000000e+00</td>\n",
       "      <td>0.000000e+00</td>\n",
       "    </tr>\n",
       "    <tr>\n",
       "      <th>10854</th>\n",
       "      <td>31602</td>\n",
       "      <td>tt0060232</td>\n",
       "      <td>0.146402</td>\n",
       "      <td>0</td>\n",
       "      <td>0</td>\n",
       "      <td>The Chase</td>\n",
       "      <td>Marlon Brando|Jane Fonda|Robert Redford|E.G. M...</td>\n",
       "      <td>NaN</td>\n",
       "      <td>Arthur Penn</td>\n",
       "      <td>The chase is on!</td>\n",
       "      <td>...</td>\n",
       "      <td>Most everyone in town thinks that Sheriff Cald...</td>\n",
       "      <td>135</td>\n",
       "      <td>Thriller|Drama|Crime</td>\n",
       "      <td>Horizon Pictures|Columbia Pictures Corporation</td>\n",
       "      <td>2/17/66</td>\n",
       "      <td>17</td>\n",
       "      <td>6.0</td>\n",
       "      <td>1966</td>\n",
       "      <td>0.000000e+00</td>\n",
       "      <td>0.000000e+00</td>\n",
       "    </tr>\n",
       "    <tr>\n",
       "      <th>10855</th>\n",
       "      <td>13343</td>\n",
       "      <td>tt0059221</td>\n",
       "      <td>0.141026</td>\n",
       "      <td>700000</td>\n",
       "      <td>0</td>\n",
       "      <td>The Ghost &amp; Mr. Chicken</td>\n",
       "      <td>Don Knotts|Joan Staley|Liam Redmond|Dick Sarge...</td>\n",
       "      <td>NaN</td>\n",
       "      <td>Alan Rafkin</td>\n",
       "      <td>G-G-GUARANTEED! YOU'LL BE SCARED UNTIL YOU LAU...</td>\n",
       "      <td>...</td>\n",
       "      <td>Luther Heggs aspires to being a reporter for h...</td>\n",
       "      <td>90</td>\n",
       "      <td>Comedy|Family|Mystery|Romance</td>\n",
       "      <td>Universal Pictures</td>\n",
       "      <td>1/20/66</td>\n",
       "      <td>14</td>\n",
       "      <td>6.1</td>\n",
       "      <td>1966</td>\n",
       "      <td>4.702610e+06</td>\n",
       "      <td>0.000000e+00</td>\n",
       "    </tr>\n",
       "    <tr>\n",
       "      <th>10856</th>\n",
       "      <td>20277</td>\n",
       "      <td>tt0061135</td>\n",
       "      <td>0.140934</td>\n",
       "      <td>0</td>\n",
       "      <td>0</td>\n",
       "      <td>The Ugly Dachshund</td>\n",
       "      <td>Dean Jones|Suzanne Pleshette|Charles Ruggles|K...</td>\n",
       "      <td>NaN</td>\n",
       "      <td>Norman Tokar</td>\n",
       "      <td>A HAPPY HONEYMOON GOES TO THE DOGS!...When a G...</td>\n",
       "      <td>...</td>\n",
       "      <td>The Garrisons (Dean Jones and Suzanne Pleshett...</td>\n",
       "      <td>93</td>\n",
       "      <td>Comedy|Drama|Family</td>\n",
       "      <td>Walt Disney Pictures</td>\n",
       "      <td>2/16/66</td>\n",
       "      <td>14</td>\n",
       "      <td>5.7</td>\n",
       "      <td>1966</td>\n",
       "      <td>0.000000e+00</td>\n",
       "      <td>0.000000e+00</td>\n",
       "    </tr>\n",
       "    <tr>\n",
       "      <th>10857</th>\n",
       "      <td>5921</td>\n",
       "      <td>tt0060748</td>\n",
       "      <td>0.131378</td>\n",
       "      <td>0</td>\n",
       "      <td>0</td>\n",
       "      <td>Nevada Smith</td>\n",
       "      <td>Steve McQueen|Karl Malden|Brian Keith|Arthur K...</td>\n",
       "      <td>NaN</td>\n",
       "      <td>Henry Hathaway</td>\n",
       "      <td>Some called him savage- and some called him sa...</td>\n",
       "      <td>...</td>\n",
       "      <td>Nevada Smith is the young son of an Indian mot...</td>\n",
       "      <td>128</td>\n",
       "      <td>Action|Western</td>\n",
       "      <td>Paramount Pictures|Solar Productions|Embassy P...</td>\n",
       "      <td>6/10/66</td>\n",
       "      <td>10</td>\n",
       "      <td>5.9</td>\n",
       "      <td>1966</td>\n",
       "      <td>0.000000e+00</td>\n",
       "      <td>0.000000e+00</td>\n",
       "    </tr>\n",
       "    <tr>\n",
       "      <th>10858</th>\n",
       "      <td>31918</td>\n",
       "      <td>tt0060921</td>\n",
       "      <td>0.317824</td>\n",
       "      <td>0</td>\n",
       "      <td>0</td>\n",
       "      <td>The Russians Are Coming, The Russians Are Coming</td>\n",
       "      <td>Carl Reiner|Eva Marie Saint|Alan Arkin|Brian K...</td>\n",
       "      <td>NaN</td>\n",
       "      <td>Norman Jewison</td>\n",
       "      <td>IT'S A PLOT! ...to make the world die laughing!!</td>\n",
       "      <td>...</td>\n",
       "      <td>Without hostile intent, a Soviet sub runs agro...</td>\n",
       "      <td>126</td>\n",
       "      <td>Comedy|War</td>\n",
       "      <td>The Mirisch Corporation</td>\n",
       "      <td>5/25/66</td>\n",
       "      <td>11</td>\n",
       "      <td>5.5</td>\n",
       "      <td>1966</td>\n",
       "      <td>0.000000e+00</td>\n",
       "      <td>0.000000e+00</td>\n",
       "    </tr>\n",
       "    <tr>\n",
       "      <th>10859</th>\n",
       "      <td>20620</td>\n",
       "      <td>tt0060955</td>\n",
       "      <td>0.089072</td>\n",
       "      <td>0</td>\n",
       "      <td>0</td>\n",
       "      <td>Seconds</td>\n",
       "      <td>Rock Hudson|Salome Jens|John Randolph|Will Gee...</td>\n",
       "      <td>NaN</td>\n",
       "      <td>John Frankenheimer</td>\n",
       "      <td>NaN</td>\n",
       "      <td>...</td>\n",
       "      <td>A secret organisation offers wealthy people a ...</td>\n",
       "      <td>100</td>\n",
       "      <td>Mystery|Science Fiction|Thriller|Drama</td>\n",
       "      <td>Gibraltar Productions|Joel Productions|John Fr...</td>\n",
       "      <td>10/5/66</td>\n",
       "      <td>22</td>\n",
       "      <td>6.6</td>\n",
       "      <td>1966</td>\n",
       "      <td>0.000000e+00</td>\n",
       "      <td>0.000000e+00</td>\n",
       "    </tr>\n",
       "    <tr>\n",
       "      <th>10860</th>\n",
       "      <td>5060</td>\n",
       "      <td>tt0060214</td>\n",
       "      <td>0.087034</td>\n",
       "      <td>0</td>\n",
       "      <td>0</td>\n",
       "      <td>Carry On Screaming!</td>\n",
       "      <td>Kenneth Williams|Jim Dale|Harry H. Corbett|Joa...</td>\n",
       "      <td>NaN</td>\n",
       "      <td>Gerald Thomas</td>\n",
       "      <td>Carry On Screaming with the Hilarious CARRY ON...</td>\n",
       "      <td>...</td>\n",
       "      <td>The sinister Dr Watt has an evil scheme going....</td>\n",
       "      <td>87</td>\n",
       "      <td>Comedy</td>\n",
       "      <td>Peter Rogers Productions|Anglo-Amalgamated Fil...</td>\n",
       "      <td>5/20/66</td>\n",
       "      <td>13</td>\n",
       "      <td>7.0</td>\n",
       "      <td>1966</td>\n",
       "      <td>0.000000e+00</td>\n",
       "      <td>0.000000e+00</td>\n",
       "    </tr>\n",
       "    <tr>\n",
       "      <th>10861</th>\n",
       "      <td>21</td>\n",
       "      <td>tt0060371</td>\n",
       "      <td>0.080598</td>\n",
       "      <td>0</td>\n",
       "      <td>0</td>\n",
       "      <td>The Endless Summer</td>\n",
       "      <td>Michael Hynson|Robert August|Lord 'Tally Ho' B...</td>\n",
       "      <td>NaN</td>\n",
       "      <td>Bruce Brown</td>\n",
       "      <td>NaN</td>\n",
       "      <td>...</td>\n",
       "      <td>The Endless Summer, by Bruce Brown, is one of ...</td>\n",
       "      <td>95</td>\n",
       "      <td>Documentary</td>\n",
       "      <td>Bruce Brown Films</td>\n",
       "      <td>6/15/66</td>\n",
       "      <td>11</td>\n",
       "      <td>7.4</td>\n",
       "      <td>1966</td>\n",
       "      <td>0.000000e+00</td>\n",
       "      <td>0.000000e+00</td>\n",
       "    </tr>\n",
       "    <tr>\n",
       "      <th>10862</th>\n",
       "      <td>20379</td>\n",
       "      <td>tt0060472</td>\n",
       "      <td>0.065543</td>\n",
       "      <td>0</td>\n",
       "      <td>0</td>\n",
       "      <td>Grand Prix</td>\n",
       "      <td>James Garner|Eva Marie Saint|Yves Montand|Tosh...</td>\n",
       "      <td>NaN</td>\n",
       "      <td>John Frankenheimer</td>\n",
       "      <td>Cinerama sweeps YOU into a drama of speed and ...</td>\n",
       "      <td>...</td>\n",
       "      <td>Grand Prix driver Pete Aron is fired by his te...</td>\n",
       "      <td>176</td>\n",
       "      <td>Action|Adventure|Drama</td>\n",
       "      <td>Cherokee Productions|Joel Productions|Douglas ...</td>\n",
       "      <td>12/21/66</td>\n",
       "      <td>20</td>\n",
       "      <td>5.7</td>\n",
       "      <td>1966</td>\n",
       "      <td>0.000000e+00</td>\n",
       "      <td>0.000000e+00</td>\n",
       "    </tr>\n",
       "    <tr>\n",
       "      <th>10863</th>\n",
       "      <td>39768</td>\n",
       "      <td>tt0060161</td>\n",
       "      <td>0.065141</td>\n",
       "      <td>0</td>\n",
       "      <td>0</td>\n",
       "      <td>Beregis Avtomobilya</td>\n",
       "      <td>Innokentiy Smoktunovskiy|Oleg Efremov|Georgi Z...</td>\n",
       "      <td>NaN</td>\n",
       "      <td>Eldar Ryazanov</td>\n",
       "      <td>NaN</td>\n",
       "      <td>...</td>\n",
       "      <td>An insurance agent who moonlights as a carthie...</td>\n",
       "      <td>94</td>\n",
       "      <td>Mystery|Comedy</td>\n",
       "      <td>Mosfilm</td>\n",
       "      <td>1/1/66</td>\n",
       "      <td>11</td>\n",
       "      <td>6.5</td>\n",
       "      <td>1966</td>\n",
       "      <td>0.000000e+00</td>\n",
       "      <td>0.000000e+00</td>\n",
       "    </tr>\n",
       "    <tr>\n",
       "      <th>10864</th>\n",
       "      <td>21449</td>\n",
       "      <td>tt0061177</td>\n",
       "      <td>0.064317</td>\n",
       "      <td>0</td>\n",
       "      <td>0</td>\n",
       "      <td>What's Up, Tiger Lily?</td>\n",
       "      <td>Tatsuya Mihashi|Akiko Wakabayashi|Mie Hama|Joh...</td>\n",
       "      <td>NaN</td>\n",
       "      <td>Woody Allen</td>\n",
       "      <td>WOODY ALLEN STRIKES BACK!</td>\n",
       "      <td>...</td>\n",
       "      <td>In comic Woody Allen's film debut, he took the...</td>\n",
       "      <td>80</td>\n",
       "      <td>Action|Comedy</td>\n",
       "      <td>Benedict Pictures Corp.</td>\n",
       "      <td>11/2/66</td>\n",
       "      <td>22</td>\n",
       "      <td>5.4</td>\n",
       "      <td>1966</td>\n",
       "      <td>0.000000e+00</td>\n",
       "      <td>0.000000e+00</td>\n",
       "    </tr>\n",
       "    <tr>\n",
       "      <th>10865</th>\n",
       "      <td>22293</td>\n",
       "      <td>tt0060666</td>\n",
       "      <td>0.035919</td>\n",
       "      <td>19000</td>\n",
       "      <td>0</td>\n",
       "      <td>Manos: The Hands of Fate</td>\n",
       "      <td>Harold P. Warren|Tom Neyman|John Reynolds|Dian...</td>\n",
       "      <td>NaN</td>\n",
       "      <td>Harold P. Warren</td>\n",
       "      <td>It's Shocking! It's Beyond Your Imagination!</td>\n",
       "      <td>...</td>\n",
       "      <td>A family gets lost on the road and stumbles up...</td>\n",
       "      <td>74</td>\n",
       "      <td>Horror</td>\n",
       "      <td>Norm-Iris</td>\n",
       "      <td>11/15/66</td>\n",
       "      <td>15</td>\n",
       "      <td>1.5</td>\n",
       "      <td>1966</td>\n",
       "      <td>1.276423e+05</td>\n",
       "      <td>0.000000e+00</td>\n",
       "    </tr>\n",
       "  </tbody>\n",
       "</table>\n",
       "<p>20 rows × 21 columns</p>\n",
       "</div>"
      ],
      "text/plain": [
       "          id    imdb_id  popularity   budget   revenue  \\\n",
       "10846  17102  tt0059127    0.212716        0         0   \n",
       "10847  28763  tt0060548    0.034555        0         0   \n",
       "10848   2161  tt0060397    0.207257  5115000  12000000   \n",
       "10849  28270  tt0060445    0.206537        0         0   \n",
       "10850  26268  tt0060490    0.202473        0         0   \n",
       "10851  15347  tt0060182    0.342791        0         0   \n",
       "10852  37301  tt0060165    0.227220        0         0   \n",
       "10853  15598  tt0060086    0.163592        0         0   \n",
       "10854  31602  tt0060232    0.146402        0         0   \n",
       "10855  13343  tt0059221    0.141026   700000         0   \n",
       "10856  20277  tt0061135    0.140934        0         0   \n",
       "10857   5921  tt0060748    0.131378        0         0   \n",
       "10858  31918  tt0060921    0.317824        0         0   \n",
       "10859  20620  tt0060955    0.089072        0         0   \n",
       "10860   5060  tt0060214    0.087034        0         0   \n",
       "10861     21  tt0060371    0.080598        0         0   \n",
       "10862  20379  tt0060472    0.065543        0         0   \n",
       "10863  39768  tt0060161    0.065141        0         0   \n",
       "10864  21449  tt0061177    0.064317        0         0   \n",
       "10865  22293  tt0060666    0.035919    19000         0   \n",
       "\n",
       "                                         original_title  \\\n",
       "10846                       Dracula: Prince of Darkness   \n",
       "10847                                  Island of Terror   \n",
       "10848                                  Fantastic Voyage   \n",
       "10849                                            Gambit   \n",
       "10850                                            Harper   \n",
       "10851                                         Born Free   \n",
       "10852                    A Big Hand for the Little Lady   \n",
       "10853                                             Alfie   \n",
       "10854                                         The Chase   \n",
       "10855                           The Ghost & Mr. Chicken   \n",
       "10856                                The Ugly Dachshund   \n",
       "10857                                      Nevada Smith   \n",
       "10858  The Russians Are Coming, The Russians Are Coming   \n",
       "10859                                           Seconds   \n",
       "10860                               Carry On Screaming!   \n",
       "10861                                The Endless Summer   \n",
       "10862                                        Grand Prix   \n",
       "10863                               Beregis Avtomobilya   \n",
       "10864                            What's Up, Tiger Lily?   \n",
       "10865                          Manos: The Hands of Fate   \n",
       "\n",
       "                                                    cast homepage  \\\n",
       "10846  Christopher Lee|Barbara Shelley|Andrew Keir|Fr...      NaN   \n",
       "10847  Peter Cushing|Edward Judd|Carole Gray|Eddie By...      NaN   \n",
       "10848  Stephen Boyd|Raquel Welch|Edmond O'Brien|Donal...      NaN   \n",
       "10849  Michael Caine|Shirley MacLaine|Herbert Lom|Joh...      NaN   \n",
       "10850  Paul Newman|Lauren Bacall|Julie Harris|Arthur ...      NaN   \n",
       "10851  Virginia McKenna|Bill Travers|Geoffrey Keen|Pe...      NaN   \n",
       "10852  Henry Fonda|Joanne Woodward|Jason Robards|Paul...      NaN   \n",
       "10853  Michael Caine|Shelley Winters|Millicent Martin...      NaN   \n",
       "10854  Marlon Brando|Jane Fonda|Robert Redford|E.G. M...      NaN   \n",
       "10855  Don Knotts|Joan Staley|Liam Redmond|Dick Sarge...      NaN   \n",
       "10856  Dean Jones|Suzanne Pleshette|Charles Ruggles|K...      NaN   \n",
       "10857  Steve McQueen|Karl Malden|Brian Keith|Arthur K...      NaN   \n",
       "10858  Carl Reiner|Eva Marie Saint|Alan Arkin|Brian K...      NaN   \n",
       "10859  Rock Hudson|Salome Jens|John Randolph|Will Gee...      NaN   \n",
       "10860  Kenneth Williams|Jim Dale|Harry H. Corbett|Joa...      NaN   \n",
       "10861  Michael Hynson|Robert August|Lord 'Tally Ho' B...      NaN   \n",
       "10862  James Garner|Eva Marie Saint|Yves Montand|Tosh...      NaN   \n",
       "10863  Innokentiy Smoktunovskiy|Oleg Efremov|Georgi Z...      NaN   \n",
       "10864  Tatsuya Mihashi|Akiko Wakabayashi|Mie Hama|Joh...      NaN   \n",
       "10865  Harold P. Warren|Tom Neyman|John Reynolds|Dian...      NaN   \n",
       "\n",
       "                 director                                            tagline  \\\n",
       "10846      Terence Fisher  DEAD for Ten Years DRACULA, Prince of Darkness...   \n",
       "10847      Terence Fisher  How could they stop the devouring death...that...   \n",
       "10848   Richard Fleischer  A Fantastic and Spectacular Voyage... Through ...   \n",
       "10849        Ronald Neame             Shirley MacLaine raises Michael Caine!   \n",
       "10850         Jack Smight    Harper takes a case - and the payoff is murder.   \n",
       "10851          James Hill  From The Pages Of The Beloved Best Seller... A...   \n",
       "10852        Fielder Cook  All the action you can take...all the adventur...   \n",
       "10853       Lewis Gilbert                 Is any man an Alfie? Ask any girl!   \n",
       "10854         Arthur Penn                                   The chase is on!   \n",
       "10855         Alan Rafkin  G-G-GUARANTEED! YOU'LL BE SCARED UNTIL YOU LAU...   \n",
       "10856        Norman Tokar  A HAPPY HONEYMOON GOES TO THE DOGS!...When a G...   \n",
       "10857      Henry Hathaway  Some called him savage- and some called him sa...   \n",
       "10858      Norman Jewison   IT'S A PLOT! ...to make the world die laughing!!   \n",
       "10859  John Frankenheimer                                                NaN   \n",
       "10860       Gerald Thomas  Carry On Screaming with the Hilarious CARRY ON...   \n",
       "10861         Bruce Brown                                                NaN   \n",
       "10862  John Frankenheimer  Cinerama sweeps YOU into a drama of speed and ...   \n",
       "10863      Eldar Ryazanov                                                NaN   \n",
       "10864         Woody Allen                          WOODY ALLEN STRIKES BACK!   \n",
       "10865    Harold P. Warren       It's Shocking! It's Beyond Your Imagination!   \n",
       "\n",
       "       ...                                           overview runtime  \\\n",
       "10846  ...  Whilst vacationing in the Carpathian Mountain,...      90   \n",
       "10847  ...  A small island community is overrun with creep...      89   \n",
       "10848  ...  The science of miniaturization has been unlock...     100   \n",
       "10849  ...  Harry Dean (Michael Caine) has a perfect plan ...     109   \n",
       "10850  ...  Harper is a cynical private eye in the best tr...     121   \n",
       "10851  ...  Born Free (1966) is an Open Road Films Ltd./Co...      95   \n",
       "10852  ...  A naive traveler in Laredo gets involved in a ...      95   \n",
       "10853  ...  The film tells the story of a young man who le...     114   \n",
       "10854  ...  Most everyone in town thinks that Sheriff Cald...     135   \n",
       "10855  ...  Luther Heggs aspires to being a reporter for h...      90   \n",
       "10856  ...  The Garrisons (Dean Jones and Suzanne Pleshett...      93   \n",
       "10857  ...  Nevada Smith is the young son of an Indian mot...     128   \n",
       "10858  ...  Without hostile intent, a Soviet sub runs agro...     126   \n",
       "10859  ...  A secret organisation offers wealthy people a ...     100   \n",
       "10860  ...  The sinister Dr Watt has an evil scheme going....      87   \n",
       "10861  ...  The Endless Summer, by Bruce Brown, is one of ...      95   \n",
       "10862  ...  Grand Prix driver Pete Aron is fired by his te...     176   \n",
       "10863  ...  An insurance agent who moonlights as a carthie...      94   \n",
       "10864  ...  In comic Woody Allen's film debut, he took the...      80   \n",
       "10865  ...  A family gets lost on the road and stumbles up...      74   \n",
       "\n",
       "                                       genres  \\\n",
       "10846                                  Horror   \n",
       "10847                  Science Fiction|Horror   \n",
       "10848               Adventure|Science Fiction   \n",
       "10849                     Action|Comedy|Crime   \n",
       "10850     Action|Drama|Thriller|Crime|Mystery   \n",
       "10851   Adventure|Drama|Action|Family|Foreign   \n",
       "10852                                 Western   \n",
       "10853                    Comedy|Drama|Romance   \n",
       "10854                    Thriller|Drama|Crime   \n",
       "10855           Comedy|Family|Mystery|Romance   \n",
       "10856                     Comedy|Drama|Family   \n",
       "10857                          Action|Western   \n",
       "10858                              Comedy|War   \n",
       "10859  Mystery|Science Fiction|Thriller|Drama   \n",
       "10860                                  Comedy   \n",
       "10861                             Documentary   \n",
       "10862                  Action|Adventure|Drama   \n",
       "10863                          Mystery|Comedy   \n",
       "10864                           Action|Comedy   \n",
       "10865                                  Horror   \n",
       "\n",
       "                                    production_companies release_date  \\\n",
       "10846     Seven Arts Productions|Hammer Film Productions       1/9/66   \n",
       "10847                   Planet Film Productions|Protelco      6/20/66   \n",
       "10848             Twentieth Century Fox Film Corporation      8/24/66   \n",
       "10849                                 Universal Pictures     12/16/66   \n",
       "10850                                       Warner Bros.      2/23/66   \n",
       "10851                                          High Road      6/22/66   \n",
       "10852                              Eden Productions Inc.      5/31/66   \n",
       "10853                                                NaN      3/29/66   \n",
       "10854     Horizon Pictures|Columbia Pictures Corporation      2/17/66   \n",
       "10855                                 Universal Pictures      1/20/66   \n",
       "10856                               Walt Disney Pictures      2/16/66   \n",
       "10857  Paramount Pictures|Solar Productions|Embassy P...      6/10/66   \n",
       "10858                            The Mirisch Corporation      5/25/66   \n",
       "10859  Gibraltar Productions|Joel Productions|John Fr...      10/5/66   \n",
       "10860  Peter Rogers Productions|Anglo-Amalgamated Fil...      5/20/66   \n",
       "10861                                  Bruce Brown Films      6/15/66   \n",
       "10862  Cherokee Productions|Joel Productions|Douglas ...     12/21/66   \n",
       "10863                                            Mosfilm       1/1/66   \n",
       "10864                            Benedict Pictures Corp.      11/2/66   \n",
       "10865                                          Norm-Iris     11/15/66   \n",
       "\n",
       "      vote_count  vote_average  release_year    budget_adj   revenue_adj  \n",
       "10846         16           5.7          1966  0.000000e+00  0.000000e+00  \n",
       "10847         13           5.3          1966  0.000000e+00  0.000000e+00  \n",
       "10848         42           6.7          1966  3.436265e+07  8.061618e+07  \n",
       "10849         14           6.1          1966  0.000000e+00  0.000000e+00  \n",
       "10850         14           6.0          1966  0.000000e+00  0.000000e+00  \n",
       "10851         15           6.6          1966  0.000000e+00  0.000000e+00  \n",
       "10852         11           6.0          1966  0.000000e+00  0.000000e+00  \n",
       "10853         26           6.2          1966  0.000000e+00  0.000000e+00  \n",
       "10854         17           6.0          1966  0.000000e+00  0.000000e+00  \n",
       "10855         14           6.1          1966  4.702610e+06  0.000000e+00  \n",
       "10856         14           5.7          1966  0.000000e+00  0.000000e+00  \n",
       "10857         10           5.9          1966  0.000000e+00  0.000000e+00  \n",
       "10858         11           5.5          1966  0.000000e+00  0.000000e+00  \n",
       "10859         22           6.6          1966  0.000000e+00  0.000000e+00  \n",
       "10860         13           7.0          1966  0.000000e+00  0.000000e+00  \n",
       "10861         11           7.4          1966  0.000000e+00  0.000000e+00  \n",
       "10862         20           5.7          1966  0.000000e+00  0.000000e+00  \n",
       "10863         11           6.5          1966  0.000000e+00  0.000000e+00  \n",
       "10864         22           5.4          1966  0.000000e+00  0.000000e+00  \n",
       "10865         15           1.5          1966  1.276423e+05  0.000000e+00  \n",
       "\n",
       "[20 rows x 21 columns]"
      ]
     },
     "execution_count": 3,
     "metadata": {},
     "output_type": "execute_result"
    }
   ],
   "source": [
    "# Printing the last 10 lines of the dataset\n",
    "df.tail(20)"
   ]
  },
  {
   "cell_type": "markdown",
   "metadata": {},
   "source": [
    "<br/>"
   ]
  },
  {
   "cell_type": "code",
   "execution_count": 4,
   "metadata": {},
   "outputs": [
    {
     "name": "stdout",
     "output_type": "stream",
     "text": [
      "<class 'pandas.core.frame.DataFrame'>\n",
      "RangeIndex: 10866 entries, 0 to 10865\n",
      "Data columns (total 21 columns):\n",
      " #   Column                Non-Null Count  Dtype  \n",
      "---  ------                --------------  -----  \n",
      " 0   id                    10866 non-null  int64  \n",
      " 1   imdb_id               10856 non-null  object \n",
      " 2   popularity            10866 non-null  float64\n",
      " 3   budget                10866 non-null  int64  \n",
      " 4   revenue               10866 non-null  int64  \n",
      " 5   original_title        10866 non-null  object \n",
      " 6   cast                  10790 non-null  object \n",
      " 7   homepage              2936 non-null   object \n",
      " 8   director              10822 non-null  object \n",
      " 9   tagline               8042 non-null   object \n",
      " 10  keywords              9373 non-null   object \n",
      " 11  overview              10862 non-null  object \n",
      " 12  runtime               10866 non-null  int64  \n",
      " 13  genres                10843 non-null  object \n",
      " 14  production_companies  9836 non-null   object \n",
      " 15  release_date          10866 non-null  object \n",
      " 16  vote_count            10866 non-null  int64  \n",
      " 17  vote_average          10866 non-null  float64\n",
      " 18  release_year          10866 non-null  int64  \n",
      " 19  budget_adj            10866 non-null  float64\n",
      " 20  revenue_adj           10866 non-null  float64\n",
      "dtypes: float64(4), int64(6), object(11)\n",
      "memory usage: 1.7+ MB\n"
     ]
    }
   ],
   "source": [
    "# Check columns formats\n",
    "df.info()"
   ]
  },
  {
   "cell_type": "markdown",
   "metadata": {},
   "source": [
    "### Observations\n",
    "\n",
    "> The dataset does indeed has many unusefull columns. Since the movies' title exists there is no need to group any of them using numeric IDs.\n",
    ">\n",
    "> The Budget and Revenue (including those with _adj) doesn't have currency unit. I will stick with the Dollar sign since it's the international currency.\n",
    ">\n",
    "> There seems to be movies that has no revenue at all!\n",
    ">\n",
    "> After looking at the tail of the dataset, It seems that I can't get rid of the vote_counts as some vote_average for 0\\$ revenues are high but vote_counts are low. So i will use this to distinguish successfull movies from that are not.\n",
    ">\n",
    "> I've also observed that there are movies with 0\\$ budget and revenues. Analysis can't deduce any kind of relations between it and the others so it will need to be discarded.\n",
    "\n",
    "### Data Cleaning\n",
    "\n",
    "> 1) Delete the unused columns to simplify the dataset overview.<br/>\n",
    "> 2) Remove duplicates if they exists.<br/>\n",
    "> 3) Remove 0\\$ budget and reveunues.<br/>\n",
    "> 4) Change any unappropriate column datatypes.\n",
    "\n",
    "> Another value will be assigned to the cleaned dataset as we might use the old uncleaned dataset. (df_cleaned)"
   ]
  },
  {
   "cell_type": "code",
   "execution_count": 5,
   "metadata": {},
   "outputs": [],
   "source": [
    "df_cleaned = df.copy()"
   ]
  },
  {
   "cell_type": "markdown",
   "metadata": {},
   "source": [
    "<br/>"
   ]
  },
  {
   "cell_type": "markdown",
   "metadata": {},
   "source": [
    "### 1) Delete unused columns\n",
    "\n",
    "> a) Since the movies' title exists there is no need for the id and imdb_id columns.<br/>\n",
    "> b) the homepage column has lots of null values, in addition to that it has no use for the analysis.<br/>\n",
    "> c) movie discription columns will not be used (tagline, overview, keywords).<br/>\n",
    "> d) we only care about the release year of the movie not the exact date so release_date will be discarded.<br/>\n",
    "> e) The budget_adj and revenue_adj columns will not be used.<br/>\n",
    "> f) The vote count for all movies are all different so we can't count on it for analysis.<br/>\n",
    "> g) production_companies column won't be used in the analysis."
   ]
  },
  {
   "cell_type": "code",
   "execution_count": 6,
   "metadata": {},
   "outputs": [
    {
     "data": {
      "text/html": [
       "<div>\n",
       "<style scoped>\n",
       "    .dataframe tbody tr th:only-of-type {\n",
       "        vertical-align: middle;\n",
       "    }\n",
       "\n",
       "    .dataframe tbody tr th {\n",
       "        vertical-align: top;\n",
       "    }\n",
       "\n",
       "    .dataframe thead th {\n",
       "        text-align: right;\n",
       "    }\n",
       "</style>\n",
       "<table border=\"1\" class=\"dataframe\">\n",
       "  <thead>\n",
       "    <tr style=\"text-align: right;\">\n",
       "      <th></th>\n",
       "      <th>popularity</th>\n",
       "      <th>budget</th>\n",
       "      <th>revenue</th>\n",
       "      <th>original_title</th>\n",
       "      <th>cast</th>\n",
       "      <th>director</th>\n",
       "      <th>runtime</th>\n",
       "      <th>genres</th>\n",
       "      <th>vote_average</th>\n",
       "      <th>release_year</th>\n",
       "    </tr>\n",
       "  </thead>\n",
       "  <tbody>\n",
       "    <tr>\n",
       "      <th>0</th>\n",
       "      <td>32.985763</td>\n",
       "      <td>150000000</td>\n",
       "      <td>1513528810</td>\n",
       "      <td>Jurassic World</td>\n",
       "      <td>Chris Pratt|Bryce Dallas Howard|Irrfan Khan|Vi...</td>\n",
       "      <td>Colin Trevorrow</td>\n",
       "      <td>124</td>\n",
       "      <td>Action|Adventure|Science Fiction|Thriller</td>\n",
       "      <td>6.5</td>\n",
       "      <td>2015</td>\n",
       "    </tr>\n",
       "    <tr>\n",
       "      <th>1</th>\n",
       "      <td>28.419936</td>\n",
       "      <td>150000000</td>\n",
       "      <td>378436354</td>\n",
       "      <td>Mad Max: Fury Road</td>\n",
       "      <td>Tom Hardy|Charlize Theron|Hugh Keays-Byrne|Nic...</td>\n",
       "      <td>George Miller</td>\n",
       "      <td>120</td>\n",
       "      <td>Action|Adventure|Science Fiction|Thriller</td>\n",
       "      <td>7.1</td>\n",
       "      <td>2015</td>\n",
       "    </tr>\n",
       "    <tr>\n",
       "      <th>2</th>\n",
       "      <td>13.112507</td>\n",
       "      <td>110000000</td>\n",
       "      <td>295238201</td>\n",
       "      <td>Insurgent</td>\n",
       "      <td>Shailene Woodley|Theo James|Kate Winslet|Ansel...</td>\n",
       "      <td>Robert Schwentke</td>\n",
       "      <td>119</td>\n",
       "      <td>Adventure|Science Fiction|Thriller</td>\n",
       "      <td>6.3</td>\n",
       "      <td>2015</td>\n",
       "    </tr>\n",
       "    <tr>\n",
       "      <th>3</th>\n",
       "      <td>11.173104</td>\n",
       "      <td>200000000</td>\n",
       "      <td>2068178225</td>\n",
       "      <td>Star Wars: The Force Awakens</td>\n",
       "      <td>Harrison Ford|Mark Hamill|Carrie Fisher|Adam D...</td>\n",
       "      <td>J.J. Abrams</td>\n",
       "      <td>136</td>\n",
       "      <td>Action|Adventure|Science Fiction|Fantasy</td>\n",
       "      <td>7.5</td>\n",
       "      <td>2015</td>\n",
       "    </tr>\n",
       "    <tr>\n",
       "      <th>4</th>\n",
       "      <td>9.335014</td>\n",
       "      <td>190000000</td>\n",
       "      <td>1506249360</td>\n",
       "      <td>Furious 7</td>\n",
       "      <td>Vin Diesel|Paul Walker|Jason Statham|Michelle ...</td>\n",
       "      <td>James Wan</td>\n",
       "      <td>137</td>\n",
       "      <td>Action|Crime|Thriller</td>\n",
       "      <td>7.3</td>\n",
       "      <td>2015</td>\n",
       "    </tr>\n",
       "  </tbody>\n",
       "</table>\n",
       "</div>"
      ],
      "text/plain": [
       "   popularity     budget     revenue                original_title  \\\n",
       "0   32.985763  150000000  1513528810                Jurassic World   \n",
       "1   28.419936  150000000   378436354            Mad Max: Fury Road   \n",
       "2   13.112507  110000000   295238201                     Insurgent   \n",
       "3   11.173104  200000000  2068178225  Star Wars: The Force Awakens   \n",
       "4    9.335014  190000000  1506249360                     Furious 7   \n",
       "\n",
       "                                                cast          director  \\\n",
       "0  Chris Pratt|Bryce Dallas Howard|Irrfan Khan|Vi...   Colin Trevorrow   \n",
       "1  Tom Hardy|Charlize Theron|Hugh Keays-Byrne|Nic...     George Miller   \n",
       "2  Shailene Woodley|Theo James|Kate Winslet|Ansel...  Robert Schwentke   \n",
       "3  Harrison Ford|Mark Hamill|Carrie Fisher|Adam D...       J.J. Abrams   \n",
       "4  Vin Diesel|Paul Walker|Jason Statham|Michelle ...         James Wan   \n",
       "\n",
       "   runtime                                     genres  vote_average  \\\n",
       "0      124  Action|Adventure|Science Fiction|Thriller           6.5   \n",
       "1      120  Action|Adventure|Science Fiction|Thriller           7.1   \n",
       "2      119         Adventure|Science Fiction|Thriller           6.3   \n",
       "3      136   Action|Adventure|Science Fiction|Fantasy           7.5   \n",
       "4      137                      Action|Crime|Thriller           7.3   \n",
       "\n",
       "   release_year  \n",
       "0          2015  \n",
       "1          2015  \n",
       "2          2015  \n",
       "3          2015  \n",
       "4          2015  "
      ]
     },
     "execution_count": 6,
     "metadata": {},
     "output_type": "execute_result"
    }
   ],
   "source": [
    "# Specify \"to delete columns\"\n",
    "cols_to_del = [\"id\", \"imdb_id\", \"homepage\", \"tagline\", \"overview\", \"keywords\", \"release_date\", \"budget_adj\", \"revenue_adj\", \"vote_count\", \"production_companies\"]\n",
    "\n",
    "# Delete columns\n",
    "df_cleaned.drop(cols_to_del, axis=1, inplace=True)\n",
    "\n",
    "# Preview changes\n",
    "df_cleaned.head(5)"
   ]
  },
  {
   "cell_type": "markdown",
   "metadata": {},
   "source": [
    "<br/>"
   ]
  },
  {
   "cell_type": "markdown",
   "metadata": {},
   "source": [
    "### 2) Remove Duplicates"
   ]
  },
  {
   "cell_type": "code",
   "execution_count": 7,
   "metadata": {},
   "outputs": [
    {
     "data": {
      "text/plain": [
       "1"
      ]
     },
     "execution_count": 7,
     "metadata": {},
     "output_type": "execute_result"
    }
   ],
   "source": [
    "# Check if there is any duplicates\n",
    "df_cleaned.duplicated().sum() # output => 1"
   ]
  },
  {
   "cell_type": "code",
   "execution_count": 8,
   "metadata": {},
   "outputs": [],
   "source": [
    "# There seems to be one row is duplicated, let's remove it\n",
    "df_cleaned.drop_duplicates(inplace=True)"
   ]
  },
  {
   "cell_type": "code",
   "execution_count": 9,
   "metadata": {},
   "outputs": [
    {
     "data": {
      "text/plain": [
       "0"
      ]
     },
     "execution_count": 9,
     "metadata": {},
     "output_type": "execute_result"
    }
   ],
   "source": [
    "# Recheck\n",
    "df_cleaned.duplicated().sum()"
   ]
  },
  {
   "cell_type": "code",
   "execution_count": 10,
   "metadata": {},
   "outputs": [
    {
     "data": {
      "text/plain": [
       "(10865, 10)"
      ]
     },
     "execution_count": 10,
     "metadata": {},
     "output_type": "execute_result"
    }
   ],
   "source": [
    "# Confirm (before remove there was 10866 rows)\n",
    "df_cleaned.shape"
   ]
  },
  {
   "cell_type": "markdown",
   "metadata": {},
   "source": [
    "### 3) Remove 0\\$ budget and revenue records\n",
    "\n",
    "> To remove 0\\$ budget and revenue records, a small trick will be used. I will use the pd.dropna() method after replacing the zeros with np.NAN."
   ]
  },
  {
   "cell_type": "code",
   "execution_count": 11,
   "metadata": {},
   "outputs": [],
   "source": [
    "# Columns to edit are [\"budget\", \"revenue\"]\n",
    "df_cleaned[[\"budget\", \"revenue\"]] = df_cleaned[[\"budget\", \"revenue\"]].replace(0, np.NAN)\n",
    "\n",
    "# Drop NAN values\n",
    "# I've known about the subset argument from this link: (after searching for \"df.dropna() axis\")\n",
    "# https://pandas.pydata.org/pandas-docs/stable/reference/api/pandas.DataFrame.dropna.html\n",
    "df_cleaned.dropna(subset=[\"budget\", \"revenue\"], inplace=True)"
   ]
  },
  {
   "cell_type": "code",
   "execution_count": 12,
   "metadata": {},
   "outputs": [
    {
     "data": {
      "text/plain": [
       "(3854, 10)"
      ]
     },
     "execution_count": 12,
     "metadata": {},
     "output_type": "execute_result"
    }
   ],
   "source": [
    "# Check how many records we have now\n",
    "df_cleaned.shape"
   ]
  },
  {
   "cell_type": "markdown",
   "metadata": {},
   "source": [
    "> WOW!, That's alot of records that have been discarded!"
   ]
  },
  {
   "cell_type": "markdown",
   "metadata": {},
   "source": [
    "### 4) Change any unappropriate column datatypes"
   ]
  },
  {
   "cell_type": "code",
   "execution_count": 13,
   "metadata": {},
   "outputs": [
    {
     "name": "stdout",
     "output_type": "stream",
     "text": [
      "<class 'pandas.core.frame.DataFrame'>\n",
      "Int64Index: 3854 entries, 0 to 10848\n",
      "Data columns (total 10 columns):\n",
      " #   Column          Non-Null Count  Dtype  \n",
      "---  ------          --------------  -----  \n",
      " 0   popularity      3854 non-null   float64\n",
      " 1   budget          3854 non-null   float64\n",
      " 2   revenue         3854 non-null   float64\n",
      " 3   original_title  3854 non-null   object \n",
      " 4   cast            3850 non-null   object \n",
      " 5   director        3853 non-null   object \n",
      " 6   runtime         3854 non-null   int64  \n",
      " 7   genres          3854 non-null   object \n",
      " 8   vote_average    3854 non-null   float64\n",
      " 9   release_year    3854 non-null   int64  \n",
      "dtypes: float64(4), int64(2), object(4)\n",
      "memory usage: 331.2+ KB\n"
     ]
    }
   ],
   "source": [
    "df_cleaned.info()"
   ]
  },
  {
   "cell_type": "markdown",
   "metadata": {},
   "source": [
    "both budget and revenue columns are in float datatype, we need to change them into ints since there are no decimal values in them."
   ]
  },
  {
   "cell_type": "code",
   "execution_count": 14,
   "metadata": {},
   "outputs": [
    {
     "data": {
      "text/plain": [
       "popularity        float64\n",
       "budget              int64\n",
       "revenue             int64\n",
       "original_title     object\n",
       "cast               object\n",
       "director           object\n",
       "runtime             int64\n",
       "genres             object\n",
       "vote_average      float64\n",
       "release_year        int64\n",
       "dtype: object"
      ]
     },
     "execution_count": 14,
     "metadata": {},
     "output_type": "execute_result"
    }
   ],
   "source": [
    "# Convert datatypes from float to int\n",
    "df_cleaned[\"budget\"] = df_cleaned[\"budget\"].astype(np.int64)\n",
    "df_cleaned[\"revenue\"] = df_cleaned[\"revenue\"].astype(np.int64)\n",
    "df_cleaned.dtypes"
   ]
  },
  {
   "cell_type": "markdown",
   "metadata": {},
   "source": [
    "<a id='eda'></a>\n",
    "## Exploratory Data Analysis\n",
    "\n",
    "\n",
    "### Research Question 1 (Number of movies production over the years)"
   ]
  },
  {
   "cell_type": "code",
   "execution_count": 15,
   "metadata": {},
   "outputs": [
    {
     "data": {
      "image/png": "[encoded data removed]",
      "text/plain": [
       "<Figure size 1440x576 with 1 Axes>"
      ]
     },
     "metadata": {
      "needs_background": "light"
     },
     "output_type": "display_data"
    }
   ],
   "source": [
    "# To answer this we need to plot all of the produced movies and group them by their release date\n",
    "# In this case we will use the old dataframe since the cleaned one has many trimmed records\n",
    "movies_vs_year = df.groupby(\"release_year\")[[\"original_title\"]].count()\n",
    "fig, ax1 = plt.subplots(figsize=(20,8))\n",
    "ax1.bar(x=movies_vs_year.index, height=movies_vs_year[\"original_title\"])\n",
    "ax1.grid()\n",
    "ax1.set_title(\"Number of Movies through each Year\")\n",
    "plt.show()"
   ]
  },
  {
   "cell_type": "markdown",
   "metadata": {},
   "source": [
    "It seems that the most dominant year is 2014 with 700 movies.\n",
    "But was it the most dominant year in terms of profits?"
   ]
  },
  {
   "cell_type": "markdown",
   "metadata": {},
   "source": [
    "### Research Question 2 (Profits over the years)"
   ]
  },
  {
   "cell_type": "code",
   "execution_count": 16,
   "metadata": {},
   "outputs": [
    {
     "data": {
      "image/png": "[encoded data removed]",
      "text/plain": [
       "<Figure size 1440x576 with 1 Axes>"
      ]
     },
     "metadata": {
      "needs_background": "light"
     },
     "output_type": "display_data"
    }
   ],
   "source": [
    "# In this part we would use the cleaned dataset\n",
    "# Profit = revenue - budget\n",
    "\n",
    "# Create profit dataframe\n",
    "profit = pd.DataFrame()\n",
    "\n",
    "# fill in the data\n",
    "# Learned about insert method from: https://www.geeksforgeeks.org/python-pandas-dataframe-insert/\n",
    "df_cleaned.insert(3, \"profit\", (df_cleaned[\"revenue\"] - df_cleaned[\"budget\"]))\n",
    "\n",
    "\n",
    "# Get the mean of profits through each year\n",
    "profit_grouped = df_cleaned.groupby(\"release_year\")[\"profit\"].mean()\n",
    "\n",
    "# Plot a graph\n",
    "fig, ax1 = plt.subplots(figsize=(20,8))\n",
    "ax1.plot(profit_grouped.index, profit_grouped)\n",
    "ax1.grid()\n",
    "ax1.set_title(\"Average Profits through each year\")\n",
    "plt.show()"
   ]
  },
  {
   "cell_type": "markdown",
   "metadata": {},
   "source": [
    "Turned out that year 2015 has the most profits, let's print the profits of each year and calculate the difference"
   ]
  },
  {
   "cell_type": "code",
   "execution_count": 17,
   "metadata": {
    "scrolled": true
   },
   "outputs": [
    {
     "name": "stdout",
     "output_type": "stream",
     "text": [
      "2015 profits: 118950907$\n",
      "2014 profits: 101067887$\n",
      "Difference: 17883020$\n"
     ]
    }
   ],
   "source": [
    "prof2015 = int(profit_grouped[profit_grouped.index == 2015])\n",
    "prof2014 = int(profit_grouped[profit_grouped.index == 2014])\n",
    "print(\"2015 profits: {}$\\n2014 profits: {}$\\nDifference: {}$\".format(prof2015, prof2014, prof2015-prof2014))"
   ]
  },
  {
   "cell_type": "markdown",
   "metadata": {},
   "source": [
    "Then which movie has the highest profit and which one has the lowest?"
   ]
  },
  {
   "cell_type": "markdown",
   "metadata": {},
   "source": [
    "### Research Question 3  (Movies of highest and lowest profit)"
   ]
  },
  {
   "cell_type": "code",
   "execution_count": 18,
   "metadata": {},
   "outputs": [
    {
     "data": {
      "text/html": [
       "<div>\n",
       "<style scoped>\n",
       "    .dataframe tbody tr th:only-of-type {\n",
       "        vertical-align: middle;\n",
       "    }\n",
       "\n",
       "    .dataframe tbody tr th {\n",
       "        vertical-align: top;\n",
       "    }\n",
       "\n",
       "    .dataframe thead th {\n",
       "        text-align: right;\n",
       "    }\n",
       "</style>\n",
       "<table border=\"1\" class=\"dataframe\">\n",
       "  <thead>\n",
       "    <tr style=\"text-align: right;\">\n",
       "      <th></th>\n",
       "      <th>popularity</th>\n",
       "      <th>budget</th>\n",
       "      <th>revenue</th>\n",
       "      <th>profit</th>\n",
       "      <th>original_title</th>\n",
       "      <th>cast</th>\n",
       "      <th>director</th>\n",
       "      <th>runtime</th>\n",
       "      <th>genres</th>\n",
       "      <th>vote_average</th>\n",
       "      <th>release_year</th>\n",
       "    </tr>\n",
       "  </thead>\n",
       "  <tbody>\n",
       "    <tr>\n",
       "      <th>1386</th>\n",
       "      <td>9.432768</td>\n",
       "      <td>237000000</td>\n",
       "      <td>2781505847</td>\n",
       "      <td>2544505847</td>\n",
       "      <td>Avatar</td>\n",
       "      <td>Sam Worthington|Zoe Saldana|Sigourney Weaver|S...</td>\n",
       "      <td>James Cameron</td>\n",
       "      <td>162</td>\n",
       "      <td>Action|Adventure|Fantasy|Science Fiction</td>\n",
       "      <td>7.1</td>\n",
       "      <td>2009</td>\n",
       "    </tr>\n",
       "  </tbody>\n",
       "</table>\n",
       "</div>"
      ],
      "text/plain": [
       "      popularity     budget     revenue      profit original_title  \\\n",
       "1386    9.432768  237000000  2781505847  2544505847         Avatar   \n",
       "\n",
       "                                                   cast       director  \\\n",
       "1386  Sam Worthington|Zoe Saldana|Sigourney Weaver|S...  James Cameron   \n",
       "\n",
       "      runtime                                    genres  vote_average  \\\n",
       "1386      162  Action|Adventure|Fantasy|Science Fiction           7.1   \n",
       "\n",
       "      release_year  \n",
       "1386          2009  "
      ]
     },
     "execution_count": 18,
     "metadata": {},
     "output_type": "execute_result"
    }
   ],
   "source": [
    "# To avoid repetitive codes or processess, we can use the profit dataframe from Question 1 \n",
    "\n",
    "# Print out the highest profit\n",
    "max_profit = df_cleaned[df_cleaned[\"profit\"] == df_cleaned[\"profit\"].max()]\n",
    "max_profit"
   ]
  },
  {
   "cell_type": "code",
   "execution_count": 19,
   "metadata": {},
   "outputs": [
    {
     "data": {
      "text/html": [
       "<div>\n",
       "<style scoped>\n",
       "    .dataframe tbody tr th:only-of-type {\n",
       "        vertical-align: middle;\n",
       "    }\n",
       "\n",
       "    .dataframe tbody tr th {\n",
       "        vertical-align: top;\n",
       "    }\n",
       "\n",
       "    .dataframe thead th {\n",
       "        text-align: right;\n",
       "    }\n",
       "</style>\n",
       "<table border=\"1\" class=\"dataframe\">\n",
       "  <thead>\n",
       "    <tr style=\"text-align: right;\">\n",
       "      <th></th>\n",
       "      <th>popularity</th>\n",
       "      <th>budget</th>\n",
       "      <th>revenue</th>\n",
       "      <th>profit</th>\n",
       "      <th>original_title</th>\n",
       "      <th>cast</th>\n",
       "      <th>director</th>\n",
       "      <th>runtime</th>\n",
       "      <th>genres</th>\n",
       "      <th>vote_average</th>\n",
       "      <th>release_year</th>\n",
       "    </tr>\n",
       "  </thead>\n",
       "  <tbody>\n",
       "    <tr>\n",
       "      <th>2244</th>\n",
       "      <td>0.25054</td>\n",
       "      <td>425000000</td>\n",
       "      <td>11087569</td>\n",
       "      <td>-413912431</td>\n",
       "      <td>The Warrior's Way</td>\n",
       "      <td>Kate Bosworth|Jang Dong-gun|Geoffrey Rush|Dann...</td>\n",
       "      <td>Sngmoo Lee</td>\n",
       "      <td>100</td>\n",
       "      <td>Adventure|Fantasy|Action|Western|Thriller</td>\n",
       "      <td>6.4</td>\n",
       "      <td>2010</td>\n",
       "    </tr>\n",
       "  </tbody>\n",
       "</table>\n",
       "</div>"
      ],
      "text/plain": [
       "      popularity     budget   revenue     profit     original_title  \\\n",
       "2244     0.25054  425000000  11087569 -413912431  The Warrior's Way   \n",
       "\n",
       "                                                   cast    director  runtime  \\\n",
       "2244  Kate Bosworth|Jang Dong-gun|Geoffrey Rush|Dann...  Sngmoo Lee      100   \n",
       "\n",
       "                                         genres  vote_average  release_year  \n",
       "2244  Adventure|Fantasy|Action|Western|Thriller           6.4          2010  "
      ]
     },
     "execution_count": 19,
     "metadata": {},
     "output_type": "execute_result"
    }
   ],
   "source": [
    "# Print out the lowest profit\n",
    "min_profit = df_cleaned[df_cleaned[\"profit\"] == df_cleaned[\"profit\"].min()]\n",
    "min_profit"
   ]
  },
  {
   "cell_type": "markdown",
   "metadata": {},
   "source": [
    "So the highest profit is the movie with index ID 1386, and the lowest profit is the movie with index ID 2244, Let's print that out from the cleaned dataset"
   ]
  },
  {
   "cell_type": "code",
   "execution_count": 20,
   "metadata": {},
   "outputs": [
    {
     "data": {
      "text/html": [
       "<div>\n",
       "<style scoped>\n",
       "    .dataframe tbody tr th:only-of-type {\n",
       "        vertical-align: middle;\n",
       "    }\n",
       "\n",
       "    .dataframe tbody tr th {\n",
       "        vertical-align: top;\n",
       "    }\n",
       "\n",
       "    .dataframe thead th {\n",
       "        text-align: right;\n",
       "    }\n",
       "</style>\n",
       "<table border=\"1\" class=\"dataframe\">\n",
       "  <thead>\n",
       "    <tr style=\"text-align: right;\">\n",
       "      <th></th>\n",
       "      <th>1386</th>\n",
       "      <th>2244</th>\n",
       "    </tr>\n",
       "  </thead>\n",
       "  <tbody>\n",
       "    <tr>\n",
       "      <th>popularity</th>\n",
       "      <td>9.43277</td>\n",
       "      <td>0.25054</td>\n",
       "    </tr>\n",
       "    <tr>\n",
       "      <th>budget</th>\n",
       "      <td>237000000</td>\n",
       "      <td>425000000</td>\n",
       "    </tr>\n",
       "    <tr>\n",
       "      <th>revenue</th>\n",
       "      <td>2781505847</td>\n",
       "      <td>11087569</td>\n",
       "    </tr>\n",
       "    <tr>\n",
       "      <th>profit</th>\n",
       "      <td>2544505847</td>\n",
       "      <td>-413912431</td>\n",
       "    </tr>\n",
       "    <tr>\n",
       "      <th>original_title</th>\n",
       "      <td>Avatar</td>\n",
       "      <td>The Warrior's Way</td>\n",
       "    </tr>\n",
       "    <tr>\n",
       "      <th>cast</th>\n",
       "      <td>Sam Worthington|Zoe Saldana|Sigourney Weaver|S...</td>\n",
       "      <td>Kate Bosworth|Jang Dong-gun|Geoffrey Rush|Dann...</td>\n",
       "    </tr>\n",
       "    <tr>\n",
       "      <th>director</th>\n",
       "      <td>James Cameron</td>\n",
       "      <td>Sngmoo Lee</td>\n",
       "    </tr>\n",
       "    <tr>\n",
       "      <th>runtime</th>\n",
       "      <td>162</td>\n",
       "      <td>100</td>\n",
       "    </tr>\n",
       "    <tr>\n",
       "      <th>genres</th>\n",
       "      <td>Action|Adventure|Fantasy|Science Fiction</td>\n",
       "      <td>Adventure|Fantasy|Action|Western|Thriller</td>\n",
       "    </tr>\n",
       "    <tr>\n",
       "      <th>vote_average</th>\n",
       "      <td>7.1</td>\n",
       "      <td>6.4</td>\n",
       "    </tr>\n",
       "    <tr>\n",
       "      <th>release_year</th>\n",
       "      <td>2009</td>\n",
       "      <td>2010</td>\n",
       "    </tr>\n",
       "  </tbody>\n",
       "</table>\n",
       "</div>"
      ],
      "text/plain": [
       "                                                             1386  \\\n",
       "popularity                                                9.43277   \n",
       "budget                                                  237000000   \n",
       "revenue                                                2781505847   \n",
       "profit                                                 2544505847   \n",
       "original_title                                             Avatar   \n",
       "cast            Sam Worthington|Zoe Saldana|Sigourney Weaver|S...   \n",
       "director                                            James Cameron   \n",
       "runtime                                                       162   \n",
       "genres                   Action|Adventure|Fantasy|Science Fiction   \n",
       "vote_average                                                  7.1   \n",
       "release_year                                                 2009   \n",
       "\n",
       "                                                             2244  \n",
       "popularity                                                0.25054  \n",
       "budget                                                  425000000  \n",
       "revenue                                                  11087569  \n",
       "profit                                                 -413912431  \n",
       "original_title                                  The Warrior's Way  \n",
       "cast            Kate Bosworth|Jang Dong-gun|Geoffrey Rush|Dann...  \n",
       "director                                               Sngmoo Lee  \n",
       "runtime                                                       100  \n",
       "genres                  Adventure|Fantasy|Action|Western|Thriller  \n",
       "vote_average                                                  6.4  \n",
       "release_year                                                 2010  "
      ]
     },
     "execution_count": 20,
     "metadata": {},
     "output_type": "execute_result"
    }
   ],
   "source": [
    "# Extract both movies from the cleaned dataframe\n",
    "high = df_cleaned[df_cleaned.index == 1386]\n",
    "low  = df_cleaned[df_cleaned.index == 2244]\n",
    "# Pandas Transpose method, Known about it from: https://note.nkmk.me/en/python-pandas-t-transpose/\n",
    "pd.concat([high.T, low.T], axis=1)"
   ]
  },
  {
   "cell_type": "markdown",
   "metadata": {},
   "source": [
    "From this table we conclude that:<br/>\n",
    "> 1) Avatar movie has the highest profit that equals 2544505847\\\\$ <br/>\n",
    "> 2) The Warrior's Way movie has the least profit that equals -413912431\\$"
   ]
  },
  {
   "cell_type": "markdown",
   "metadata": {},
   "source": [
    "### Research Question 4 (Movies of no profit)"
   ]
  },
  {
   "cell_type": "code",
   "execution_count": 21,
   "metadata": {},
   "outputs": [
    {
     "name": "stdout",
     "output_type": "stream",
     "text": [
      "Uncleaned data has 31 records of 0 runtime\n",
      "Cleaned data has 0 records of 0 runtime\n"
     ]
    }
   ],
   "source": [
    "# Before analysing, let's check if there are any movies in either the uncleaned dataframe and the cleaned one\n",
    "print(\"Uncleaned data has {} records of 0 runtime\\nCleaned data has {} records of 0 runtime\".format(df[df[\"runtime\"]==0][\"runtime\"].count(), df_cleaned[df_cleaned[\"runtime\"]==0][\"runtime\"].count()))"
   ]
  },
  {
   "cell_type": "markdown",
   "metadata": {},
   "source": [
    "From the obtained results, we will stick with the cleaned data for this analysis."
   ]
  },
  {
   "cell_type": "code",
   "execution_count": 22,
   "metadata": {},
   "outputs": [
    {
     "data": {
      "text/html": [
       "<div>\n",
       "<style scoped>\n",
       "    .dataframe tbody tr th:only-of-type {\n",
       "        vertical-align: middle;\n",
       "    }\n",
       "\n",
       "    .dataframe tbody tr th {\n",
       "        vertical-align: top;\n",
       "    }\n",
       "\n",
       "    .dataframe thead th {\n",
       "        text-align: right;\n",
       "    }\n",
       "</style>\n",
       "<table border=\"1\" class=\"dataframe\">\n",
       "  <thead>\n",
       "    <tr style=\"text-align: right;\">\n",
       "      <th></th>\n",
       "      <th>popularity</th>\n",
       "      <th>budget</th>\n",
       "      <th>revenue</th>\n",
       "      <th>profit</th>\n",
       "      <th>original_title</th>\n",
       "      <th>cast</th>\n",
       "      <th>director</th>\n",
       "      <th>runtime</th>\n",
       "      <th>genres</th>\n",
       "      <th>vote_average</th>\n",
       "      <th>release_year</th>\n",
       "    </tr>\n",
       "  </thead>\n",
       "  <tbody>\n",
       "    <tr>\n",
       "      <th>5198</th>\n",
       "      <td>0.126182</td>\n",
       "      <td>569217</td>\n",
       "      <td>569217</td>\n",
       "      <td>0</td>\n",
       "      <td>Les Clefs de bagnole</td>\n",
       "      <td>Laurent Baffie|Daniel Russo|Pascal Sellem|GÃ©r...</td>\n",
       "      <td>Laurent Baffie</td>\n",
       "      <td>90</td>\n",
       "      <td>Comedy</td>\n",
       "      <td>4.8</td>\n",
       "      <td>2003</td>\n",
       "    </tr>\n",
       "    <tr>\n",
       "      <th>7250</th>\n",
       "      <td>0.082116</td>\n",
       "      <td>823258</td>\n",
       "      <td>823258</td>\n",
       "      <td>0</td>\n",
       "      <td>Narco</td>\n",
       "      <td>Guillaume Canet|Zabou Breitman|Guillaume Galli...</td>\n",
       "      <td>Tristan Aurouet|Gilles Lellouche</td>\n",
       "      <td>105</td>\n",
       "      <td>Comedy</td>\n",
       "      <td>5.8</td>\n",
       "      <td>2004</td>\n",
       "    </tr>\n",
       "    <tr>\n",
       "      <th>7813</th>\n",
       "      <td>0.065543</td>\n",
       "      <td>6000</td>\n",
       "      <td>6000</td>\n",
       "      <td>0</td>\n",
       "      <td>Loose Change: Final Cut</td>\n",
       "      <td>NaN</td>\n",
       "      <td>Dylan Avery</td>\n",
       "      <td>129</td>\n",
       "      <td>Documentary</td>\n",
       "      <td>5.1</td>\n",
       "      <td>2007</td>\n",
       "    </tr>\n",
       "    <tr>\n",
       "      <th>10777</th>\n",
       "      <td>0.439210</td>\n",
       "      <td>11</td>\n",
       "      <td>11</td>\n",
       "      <td>0</td>\n",
       "      <td>F.I.S.T.</td>\n",
       "      <td>Sylvester Stallone|Rod Steiger|Peter Boyle|Mel...</td>\n",
       "      <td>Norman Jewison</td>\n",
       "      <td>145</td>\n",
       "      <td>Drama|Action</td>\n",
       "      <td>6.7</td>\n",
       "      <td>1978</td>\n",
       "    </tr>\n",
       "  </tbody>\n",
       "</table>\n",
       "</div>"
      ],
      "text/plain": [
       "       popularity  budget  revenue  profit           original_title  \\\n",
       "5198     0.126182  569217   569217       0     Les Clefs de bagnole   \n",
       "7250     0.082116  823258   823258       0                    Narco   \n",
       "7813     0.065543    6000     6000       0  Loose Change: Final Cut   \n",
       "10777    0.439210      11       11       0                 F.I.S.T.   \n",
       "\n",
       "                                                    cast  \\\n",
       "5198   Laurent Baffie|Daniel Russo|Pascal Sellem|GÃ©r...   \n",
       "7250   Guillaume Canet|Zabou Breitman|Guillaume Galli...   \n",
       "7813                                                 NaN   \n",
       "10777  Sylvester Stallone|Rod Steiger|Peter Boyle|Mel...   \n",
       "\n",
       "                               director  runtime        genres  vote_average  \\\n",
       "5198                     Laurent Baffie       90        Comedy           4.8   \n",
       "7250   Tristan Aurouet|Gilles Lellouche      105        Comedy           5.8   \n",
       "7813                        Dylan Avery      129   Documentary           5.1   \n",
       "10777                    Norman Jewison      145  Drama|Action           6.7   \n",
       "\n",
       "       release_year  \n",
       "5198           2003  \n",
       "7250           2004  \n",
       "7813           2007  \n",
       "10777          1978  "
      ]
     },
     "execution_count": 22,
     "metadata": {},
     "output_type": "execute_result"
    }
   ],
   "source": [
    "# No profit means the difference between both budget and revenue equals zero (budget == revenue)\n",
    "df_cleaned[df_cleaned[\"budget\"] == df_cleaned[\"revenue\"]]"
   ]
  },
  {
   "cell_type": "markdown",
   "metadata": {},
   "source": [
    "So there are only 4 movies that had 0\\$ profits. It appears also that they don't have good reputation. (low vote counts, and low popularity score)"
   ]
  },
  {
   "cell_type": "markdown",
   "metadata": {},
   "source": [
    "### Research Question 5 (Movie runtime affect on votes)"
   ]
  },
  {
   "cell_type": "code",
   "execution_count": 23,
   "metadata": {},
   "outputs": [
    {
     "data": {
      "image/png": "[encoded data removed]",
      "text/plain": [
       "<Figure size 432x288 with 1 Axes>"
      ]
     },
     "metadata": {
      "needs_background": "light"
     },
     "output_type": "display_data"
    }
   ],
   "source": [
    "# To answer this we need to group the runtime column and calculate the mean value of the vote_average\n",
    "runtime_vs_votes = df_cleaned.groupby(\"runtime\")[\"vote_average\"].mean()\n",
    "\n",
    "# Let's plot this into a scatter plot\n",
    "fig, ax1 = plt.subplots()\n",
    "ax1.scatter(x=runtime_vs_votes.index, y=runtime_vs_votes)\n",
    "ax1.grid()\n",
    "ax1.set_title(\"Average Votes for different movies runtime duration\")\n",
    "plt.show()"
   ]
  },
  {
   "cell_type": "markdown",
   "metadata": {},
   "source": [
    "Observing the graph, It seems like the majority of the votes prefers movies of 80-170 minutes. Let's take a closer look by comparing the votes of movies less and more than the mean of 80-170 minutes which is 125 minutes."
   ]
  },
  {
   "cell_type": "code",
   "execution_count": 24,
   "metadata": {},
   "outputs": [
    {
     "data": {
      "image/png": "[encoded data removed]",
      "text/plain": [
       "<Figure size 432x288 with 1 Axes>"
      ]
     },
     "metadata": {
      "needs_background": "light"
     },
     "output_type": "display_data"
    }
   ],
   "source": [
    "# Group each group of runtime durations in seperate categories and calculate the mean of the votes\n",
    "runtime_above_125 = df_cleaned[df_cleaned[\"runtime\"] > 125][\"vote_average\"].mean()\n",
    "runtime_below_125 = df_cleaned[df_cleaned[\"runtime\"] < 125][\"vote_average\"].mean()\n",
    "\n",
    "# Plot the results in a bar chart\n",
    "fig, ax1 = plt.subplots()\n",
    "ax1.bar(x=[\"<125 mins\", \">125 mins\"], height=[runtime_below_125, runtime_above_125])\n",
    "ax1.grid()\n",
    "ax1.set_title(\"Vote average for movies below and above 125 minutes runtime\")\n",
    "plt.show()"
   ]
  },
  {
   "cell_type": "code",
   "execution_count": 25,
   "metadata": {},
   "outputs": [
    {
     "name": "stdout",
     "output_type": "stream",
     "text": [
      "Mean of those below 125 mins : 6.06\n",
      "Mean of those above 125 mins : 6.69\n"
     ]
    }
   ],
   "source": [
    "print(\"Mean of those below 125 mins : {}\\nMean of those above 125 mins : {}\".format(round(runtime_below_125, 2), round(runtime_above_125, 2)))"
   ]
  },
  {
   "cell_type": "markdown",
   "metadata": {},
   "source": [
    "It turns out that the values are really close. Average votes for movies of below 125 mins runtime gets 6.06 out of 10 and for those of above 125 mins get abit higher with 6.69 out of 10. So, movie runtime duration does not affect the votes but the contents of the movie itself, This includes Its' genre and the actions of the movie.<br/><br/>\n",
    "\n",
    "We are taking vote average as our dependent variable here, how about letting the popularity take the lead?"
   ]
  },
  {
   "cell_type": "markdown",
   "metadata": {},
   "source": [
    "### Research Question 6 (Runtime vs Popularity)"
   ]
  },
  {
   "cell_type": "code",
   "execution_count": 26,
   "metadata": {},
   "outputs": [
    {
     "data": {
      "image/png": "[encoded data removed]",
      "text/plain": [
       "<Figure size 432x288 with 1 Axes>"
      ]
     },
     "metadata": {
      "needs_background": "light"
     },
     "output_type": "display_data"
    }
   ],
   "source": [
    "# Let's group by runtime and calculate the popularity average\n",
    "runtime_vs_popularity = df_cleaned.groupby(\"runtime\")[\"popularity\"].mean()\n",
    "\n",
    "# Plotting the results\n",
    "fig, ax1 = plt.subplots()\n",
    "ax1.plot(runtime_vs_popularity.index, runtime_vs_popularity)\n",
    "ax1.grid()\n",
    "ax1.set_title(\"Movies popularity according to its runtime\")\n",
    "plt.show()"
   ]
  },
  {
   "cell_type": "markdown",
   "metadata": {},
   "source": [
    "It seems that the audience prefers movies of runtime 150-200 minutes. the range between runtimes of 80-100 minutes also have some audience but i think the reason behind it not having the same rate of audience is the lake of exciting scenes as the movie is short.<br/><br/>\n",
    "\n",
    "Let's look at another relation considering the runtime, like does it increase each year?"
   ]
  },
  {
   "cell_type": "markdown",
   "metadata": {},
   "source": [
    "### Research Question 7 (Movies runtime through each year)"
   ]
  },
  {
   "cell_type": "code",
   "execution_count": 27,
   "metadata": {},
   "outputs": [
    {
     "data": {
      "image/png": "[encoded data removed]",
      "text/plain": [
       "<Figure size 432x288 with 1 Axes>"
      ]
     },
     "metadata": {
      "needs_background": "light"
     },
     "output_type": "display_data"
    }
   ],
   "source": [
    "# This can be visualised by getting the mean runtime values and grouping them by year\n",
    "runtime_vs_years = df_cleaned.groupby(\"release_year\")[\"runtime\"].mean()\n",
    "\n",
    "# Plot the results\n",
    "fig, ax1 = plt.subplots()\n",
    "ax1.plot(runtime_vs_years.index, runtime_vs_years)\n",
    "ax1.grid()\n",
    "ax1.set_title(\"Average movies runtime through each year\")\n",
    "plt.show()"
   ]
  },
  {
   "cell_type": "markdown",
   "metadata": {},
   "source": [
    "It seems that there were some huge jumps through the decade between 1960-1970, But it began to decrease after that."
   ]
  },
  {
   "cell_type": "code",
   "execution_count": 28,
   "metadata": {
    "scrolled": true
   },
   "outputs": [
    {
     "data": {
      "text/plain": [
       "count    3854.000000\n",
       "mean      109.220291\n",
       "std        19.922820\n",
       "min        15.000000\n",
       "25%        95.000000\n",
       "50%       106.000000\n",
       "75%       119.000000\n",
       "max       338.000000\n",
       "Name: runtime, dtype: float64"
      ]
     },
     "execution_count": 28,
     "metadata": {},
     "output_type": "execute_result"
    }
   ],
   "source": [
    "df_cleaned[\"runtime\"].describe()"
   ]
  },
  {
   "cell_type": "markdown",
   "metadata": {},
   "source": [
    "Looking at the calculations, The following can be deduced:<br/>\n",
    ">    1) 25% of the movies in the dataset have runtime less than 95 minutes.<br/>\n",
    ">    2) 50% (The median) of the movies have runtime less than 106 minutes.<br/>\n",
    ">    3) 75% of the movies have runtime less than 119 minutes.<br/>\n",
    ">    4) The longest runtime of this dataset is 338 minutes long.<br/>\n",
    ">    5) The shortest runtime of this dataset is 15 minutes long.<br/>\n",
    "\n",
    "<br/>\n",
    "Let's check which movies have these longest and shortest runtimes."
   ]
  },
  {
   "cell_type": "markdown",
   "metadata": {},
   "source": [
    "### Research Question 8 (Movies of longest and shortest runtime)"
   ]
  },
  {
   "cell_type": "code",
   "execution_count": 29,
   "metadata": {},
   "outputs": [
    {
     "data": {
      "text/html": [
       "<div>\n",
       "<style scoped>\n",
       "    .dataframe tbody tr th:only-of-type {\n",
       "        vertical-align: middle;\n",
       "    }\n",
       "\n",
       "    .dataframe tbody tr th {\n",
       "        vertical-align: top;\n",
       "    }\n",
       "\n",
       "    .dataframe thead th {\n",
       "        text-align: right;\n",
       "    }\n",
       "</style>\n",
       "<table border=\"1\" class=\"dataframe\">\n",
       "  <thead>\n",
       "    <tr style=\"text-align: right;\">\n",
       "      <th></th>\n",
       "      <th>2107</th>\n",
       "      <th>5162</th>\n",
       "    </tr>\n",
       "  </thead>\n",
       "  <tbody>\n",
       "    <tr>\n",
       "      <th>popularity</th>\n",
       "      <td>0.534192</td>\n",
       "      <td>0.208637</td>\n",
       "    </tr>\n",
       "    <tr>\n",
       "      <th>budget</th>\n",
       "      <td>18000000</td>\n",
       "      <td>10</td>\n",
       "    </tr>\n",
       "    <tr>\n",
       "      <th>revenue</th>\n",
       "      <td>871279</td>\n",
       "      <td>5</td>\n",
       "    </tr>\n",
       "    <tr>\n",
       "      <th>profit</th>\n",
       "      <td>-17128721</td>\n",
       "      <td>-5</td>\n",
       "    </tr>\n",
       "    <tr>\n",
       "      <th>original_title</th>\n",
       "      <td>Carlos</td>\n",
       "      <td>Kid's Story</td>\n",
       "    </tr>\n",
       "    <tr>\n",
       "      <th>cast</th>\n",
       "      <td>Edgar RamÃ­rez|Alexander Scheer|Fadi Abi Samra...</td>\n",
       "      <td>Clayton Watson|Keanu Reeves|Carrie-Anne Moss|K...</td>\n",
       "    </tr>\n",
       "    <tr>\n",
       "      <th>director</th>\n",
       "      <td>Olivier Assayas</td>\n",
       "      <td>Shinichiro Watanabe</td>\n",
       "    </tr>\n",
       "    <tr>\n",
       "      <th>runtime</th>\n",
       "      <td>338</td>\n",
       "      <td>15</td>\n",
       "    </tr>\n",
       "    <tr>\n",
       "      <th>genres</th>\n",
       "      <td>Crime|Drama|Thriller|History</td>\n",
       "      <td>Science Fiction|Animation</td>\n",
       "    </tr>\n",
       "    <tr>\n",
       "      <th>vote_average</th>\n",
       "      <td>6.2</td>\n",
       "      <td>6.8</td>\n",
       "    </tr>\n",
       "    <tr>\n",
       "      <th>release_year</th>\n",
       "      <td>2010</td>\n",
       "      <td>2003</td>\n",
       "    </tr>\n",
       "  </tbody>\n",
       "</table>\n",
       "</div>"
      ],
      "text/plain": [
       "                                                             2107  \\\n",
       "popularity                                               0.534192   \n",
       "budget                                                   18000000   \n",
       "revenue                                                    871279   \n",
       "profit                                                  -17128721   \n",
       "original_title                                             Carlos   \n",
       "cast            Edgar RamÃ­rez|Alexander Scheer|Fadi Abi Samra...   \n",
       "director                                          Olivier Assayas   \n",
       "runtime                                                       338   \n",
       "genres                               Crime|Drama|Thriller|History   \n",
       "vote_average                                                  6.2   \n",
       "release_year                                                 2010   \n",
       "\n",
       "                                                             5162  \n",
       "popularity                                               0.208637  \n",
       "budget                                                         10  \n",
       "revenue                                                         5  \n",
       "profit                                                         -5  \n",
       "original_title                                        Kid's Story  \n",
       "cast            Clayton Watson|Keanu Reeves|Carrie-Anne Moss|K...  \n",
       "director                                      Shinichiro Watanabe  \n",
       "runtime                                                        15  \n",
       "genres                                  Science Fiction|Animation  \n",
       "vote_average                                                  6.8  \n",
       "release_year                                                 2003  "
      ]
     },
     "execution_count": 29,
     "metadata": {},
     "output_type": "execute_result"
    }
   ],
   "source": [
    "# Get the highest and shortest movies runtime info\n",
    "highest_runtime = df_cleaned[df_cleaned[\"runtime\"] == 338]\n",
    "shortest_runtime = df_cleaned[df_cleaned[\"runtime\"] == 15]\n",
    "\n",
    "# Print organised results\n",
    "pd.concat([highest_runtime.T, shortest_runtime.T], axis=1)"
   ]
  },
  {
   "cell_type": "markdown",
   "metadata": {},
   "source": [
    "So the longest runtime in this dataset is 338 minutes long for movie called \"Carlos\" while the shortest one is 15 minutes long for a movie called \"Kid's Story\". It looks like neither of them made any profits, and both have low reputation."
   ]
  },
  {
   "cell_type": "markdown",
   "metadata": {},
   "source": [
    "### Research Question 9 (Common Directors)"
   ]
  },
  {
   "cell_type": "code",
   "execution_count": 30,
   "metadata": {},
   "outputs": [
    {
     "data": {
      "text/plain": [
       "Woody Allen          45\n",
       "Clint Eastwood       34\n",
       "Steven Spielberg     29\n",
       "Martin Scorsese      29\n",
       "Ridley Scott         23\n",
       "Ron Howard           22\n",
       "Steven Soderbergh    22\n",
       "Joel Schumacher      21\n",
       "Brian De Palma       20\n",
       "Barry Levinson       19\n",
       "Name: director, dtype: int64"
      ]
     },
     "execution_count": 30,
     "metadata": {},
     "output_type": "execute_result"
    }
   ],
   "source": [
    "# Count how many times the director participated in movies\n",
    "# For this question i will use the uncleaned dataframe to count as many movies as possible\n",
    "cmn_directors = df[\"director\"].value_counts()\n",
    "cmn_directors.head(10)"
   ]
  },
  {
   "cell_type": "code",
   "execution_count": 31,
   "metadata": {},
   "outputs": [
    {
     "data": {
      "image/png": "[encoded data removed]",
      "text/plain": [
       "<Figure size 1080x432 with 1 Axes>"
      ]
     },
     "metadata": {
      "needs_background": "light"
     },
     "output_type": "display_data"
    }
   ],
   "source": [
    "# Let's plot the top 10 into a bar chart\n",
    "\n",
    "# Select the top 10 directors\n",
    "cmn_directors = cmn_directors.head(10)\n",
    "\n",
    "# Plot the results\n",
    "fig, ax1 = plt.subplots(figsize=(15,6))\n",
    "ax1.bar(x=cmn_directors.index, height=cmn_directors)\n",
    "plt.xticks(rotation=80)\n",
    "ax1.set_title(\"Top 10 directors\")\n",
    "ax1.grid()\n",
    "plt.show()"
   ]
  },
  {
   "cell_type": "markdown",
   "metadata": {},
   "source": [
    "It seems that \"Woody Allen\" is the most common director with 45 movies. But what about their reputations? do the movies produced by them have good votes?"
   ]
  },
  {
   "cell_type": "markdown",
   "metadata": {},
   "source": [
    "### Research Question 10 (Directors' reputation in movies)"
   ]
  },
  {
   "cell_type": "code",
   "execution_count": 32,
   "metadata": {},
   "outputs": [
    {
     "data": {
      "image/png": "[encoded data removed]",
      "text/plain": [
       "<Figure size 432x288 with 1 Axes>"
      ]
     },
     "metadata": {
      "needs_background": "light"
     },
     "output_type": "display_data"
    }
   ],
   "source": [
    "# Let's groupby directors and calculate the average of vote_average\n",
    "directors_reputation = df.groupby(\"director\")[\"vote_average\"].mean()\n",
    "\n",
    "# Utilizing left merge to filter the top directors' average votes\n",
    "reputation_by_votes = pd.merge(how=\"left\", left=cmn_directors, right=directors_reputation, left_on=cmn_directors.index, right_on=directors_reputation.index)\n",
    "\n",
    "# Let's plot the results\n",
    "fig, ax1 = plt.subplots()\n",
    "ax1.bar(x=reputation_by_votes[\"key_0\"], height=reputation_by_votes[\"vote_average\"])\n",
    "plt.xticks(rotation=80)\n",
    "ax1.grid()\n",
    "plt.show()"
   ]
  },
  {
   "cell_type": "markdown",
   "metadata": {},
   "source": [
    "That's for the average movie votes, let's check their popularity"
   ]
  },
  {
   "cell_type": "code",
   "execution_count": 33,
   "metadata": {},
   "outputs": [
    {
     "data": {
      "image/png": "[encoded data removed]",
      "text/plain": [
       "<Figure size 432x288 with 1 Axes>"
      ]
     },
     "metadata": {
      "needs_background": "light"
     },
     "output_type": "display_data"
    }
   ],
   "source": [
    "# Let's groupby directors and calculate the average of popularity\n",
    "directors_reputation = df.groupby(\"director\")[\"popularity\"].mean()\n",
    "\n",
    "# Utilizing left merge to filter the top directors' average popularity scores\n",
    "reputation_by_popularity = pd.merge(how=\"left\", left=cmn_directors, right=directors_reputation, left_on=cmn_directors.index, right_on=directors_reputation.index)\n",
    "\n",
    "# Let's plot the results\n",
    "fig, ax1 = plt.subplots()\n",
    "ax1.bar(x=reputation_by_popularity[\"key_0\"], height=reputation_by_popularity[\"popularity\"])\n",
    "plt.xticks(rotation=80)\n",
    "ax1.grid()\n",
    "plt.show()"
   ]
  },
  {
   "cell_type": "markdown",
   "metadata": {},
   "source": [
    "Observing the graphs, we can conclude that:<br/>\n",
    "> 1) \"Steven Spielberg\" and \"Ridley Scott\" have high scores in both vote average in his movies and the pobularity.\n",
    ">\n",
    "> 2) The vote average is high between the audience who watches a specific director, but the popularity gives us a more general idea about how famous each director is. (the top 10 directors to be specific)"
   ]
  },
  {
   "cell_type": "markdown",
   "metadata": {},
   "source": [
    "### Research Question 11 (Successful genres)"
   ]
  },
  {
   "cell_type": "markdown",
   "metadata": {},
   "source": [
    "To analyse this we need first to seperate the successfull movies. The ones which madee profits."
   ]
  },
  {
   "cell_type": "code",
   "execution_count": 34,
   "metadata": {},
   "outputs": [],
   "source": [
    "# Group successful movies into one variable\n",
    "successful_movies = df_cleaned[df_cleaned[\"profit\"] > 0]"
   ]
  },
  {
   "cell_type": "markdown",
   "metadata": {},
   "source": [
    "Now we make a function that splits each category from the \"genres\" column"
   ]
  },
  {
   "cell_type": "code",
   "execution_count": 35,
   "metadata": {},
   "outputs": [],
   "source": [
    "# Function to split each category\n",
    "def splitter(dataframe, column):\n",
    "    # I learned about str.cat from: https://pandas.pydata.org/pandas-docs/stable/reference/api/pandas.Series.str.cat.html\n",
    "    splitted = dataframe[column].str.cat(sep=\"|\")\n",
    "    splitted = pd.Series(splitted.split(\"|\"))\n",
    "    \n",
    "    splitted = splitted.value_counts()\n",
    "    \n",
    "    return splitted"
   ]
  },
  {
   "cell_type": "code",
   "execution_count": 36,
   "metadata": {},
   "outputs": [],
   "source": [
    "# Try the function by passing the genres column\n",
    "splitted = splitter(successful_movies, \"genres\")"
   ]
  },
  {
   "cell_type": "code",
   "execution_count": 37,
   "metadata": {},
   "outputs": [
    {
     "data": {
      "image/png": "[encoded data removed]",
      "text/plain": [
       "<Figure size 1440x576 with 1 Axes>"
      ]
     },
     "metadata": {
      "needs_background": "light"
     },
     "output_type": "display_data"
    }
   ],
   "source": [
    "# Now let's plot the output\n",
    "fig, ax1 = plt.subplots(figsize=(20,8))\n",
    "ax1.barh(splitted.index, splitted)\n",
    "ax1.set_title(\"Successful Genres\")\n",
    "ax1.grid()\n",
    "plt.show()"
   ]
  },
  {
   "cell_type": "markdown",
   "metadata": {},
   "source": [
    "So the most successful genres are Drama followed by Comedy. That's for the movie profits view, Let's recheck it from the audience votes view and the popularity view of each category.<br/><br/>\n",
    "\n",
    "So first, we need to prepare the data then plot the output"
   ]
  },
  {
   "cell_type": "code",
   "execution_count": 38,
   "metadata": {},
   "outputs": [],
   "source": [
    "# for the viewer view and popularity view we can use the cleaned dataframe to count all movies in the dataset as viewers don't\n",
    "# care much about whether the movie was successful or not rather than did it enjoy them or not.\n",
    "\n",
    "# This cell will take sometime to run as it will rotate through each row in the successful_movies dataframe and process the\n",
    "# needed data\n",
    "another_compare = pd.DataFrame(columns=[\"genres\", \"vote_average\", \"popularity\"])\n",
    "\n",
    "# A loop to create a dataframe of different genres of each movie accompanied by the rate score and popularity of that movie \n",
    "for index, row in df_cleaned.iterrows():\n",
    "    \n",
    "    # Split each genre and convert it into a pandas series\n",
    "    genres = row[\"genres\"].split(\"|\")\n",
    "    genres = pd.Series(genres)\n",
    "    \n",
    "    # for each genre\n",
    "    for genre in genres:\n",
    "        # Prepare the data to be appended\n",
    "        data={\"genres\": genre, \"vote_average\": row[\"vote_average\"], \"popularity\": row[\"popularity\"]}\n",
    "        # Append data\n",
    "        another_compare = another_compare.append(data, ignore_index=True)"
   ]
  },
  {
   "cell_type": "code",
   "execution_count": 39,
   "metadata": {},
   "outputs": [],
   "source": [
    "# Now let's group the collected data by genre and calculate the average of other columns\n",
    "another_compare = another_compare.groupby(\"genres\")[[\"vote_average\", \"popularity\"]].mean()"
   ]
  },
  {
   "cell_type": "markdown",
   "metadata": {},
   "source": [
    "### Research Question 12 (Genres that attracts more viewers)"
   ]
  },
  {
   "cell_type": "code",
   "execution_count": 40,
   "metadata": {},
   "outputs": [
    {
     "data": {
      "image/png": "[encoded data removed]",
      "text/plain": [
       "<Figure size 1440x576 with 1 Axes>"
      ]
     },
     "metadata": {
      "needs_background": "light"
     },
     "output_type": "display_data"
    }
   ],
   "source": [
    "fig, ax1 = plt.subplots(figsize=(20,8))\n",
    "ax1.barh(another_compare.index, another_compare[\"vote_average\"])\n",
    "ax1.grid()\n",
    "ax1.set_title(\"Genres rates according to movies vote average\")\n",
    "plt.show()"
   ]
  },
  {
   "cell_type": "markdown",
   "metadata": {},
   "source": [
    "It appears that all categories have rates above 6.0 except \"Horror\" and \"TV Movie\"."
   ]
  },
  {
   "cell_type": "markdown",
   "metadata": {},
   "source": [
    "### Research Question 13 (Most popular genres)"
   ]
  },
  {
   "cell_type": "code",
   "execution_count": 41,
   "metadata": {},
   "outputs": [
    {
     "data": {
      "image/png": "[encoded data removed]",
      "text/plain": [
       "<Figure size 1440x576 with 1 Axes>"
      ]
     },
     "metadata": {
      "needs_background": "light"
     },
     "output_type": "display_data"
    }
   ],
   "source": [
    "fig, ax1 = plt.subplots(figsize=(20,8))\n",
    "ax1.barh(another_compare.index, another_compare[\"popularity\"])\n",
    "ax1.grid()\n",
    "ax1.set_title(\"Genres rates according to movies popularity\")\n",
    "plt.show()"
   ]
  },
  {
   "cell_type": "markdown",
   "metadata": {},
   "source": [
    "Observing the graph, \"Science Fiction\", \"Fantasy\", and \"Adventure\" are the most popular categories between the movies"
   ]
  },
  {
   "cell_type": "markdown",
   "metadata": {},
   "source": [
    "### Research Question 14 (Common casts)"
   ]
  },
  {
   "cell_type": "markdown",
   "metadata": {},
   "source": [
    "To answer this final question, we can reuse the function written in question 11 which was used to seperate genres by \"|\""
   ]
  },
  {
   "cell_type": "code",
   "execution_count": 42,
   "metadata": {},
   "outputs": [
    {
     "data": {
      "text/plain": [
       "Robert De Niro       38\n",
       "Bruce Willis         33\n",
       "Tom Hanks            33\n",
       "Tom Cruise           31\n",
       "Brad Pitt            30\n",
       "Samuel L. Jackson    30\n",
       "Denzel Washington    29\n",
       "Harrison Ford        28\n",
       "Morgan Freeman       28\n",
       "Johnny Depp          27\n",
       "dtype: int64"
      ]
     },
     "execution_count": 42,
     "metadata": {},
     "output_type": "execute_result"
    }
   ],
   "source": [
    "cast_counts = splitter(successful_movies, \"cast\").head(10)\n",
    "cast_counts"
   ]
  },
  {
   "cell_type": "code",
   "execution_count": 43,
   "metadata": {},
   "outputs": [
    {
     "data": {
      "image/png": "[encoded data removed]",
      "text/plain": [
       "<Figure size 432x288 with 1 Axes>"
      ]
     },
     "metadata": {
      "needs_background": "light"
     },
     "output_type": "display_data"
    }
   ],
   "source": [
    "# Let's plot the results\n",
    "fig, ax1 = plt.subplots()\n",
    "ax1.bar(x=cast_counts.index, height=cast_counts)\n",
    "ax1.grid()\n",
    "ax1.set_title(\"Frequent casts\")\n",
    "plt.xticks(rotation=80)\n",
    "plt.show()"
   ]
  },
  {
   "cell_type": "markdown",
   "metadata": {},
   "source": [
    "Seems like the top 6 casters are Robert De Niro, Bruce Willis, Tom Hanks, Tom Cruise, Samuel L. Jackson, and Brad Pitt."
   ]
  },
  {
   "cell_type": "markdown",
   "metadata": {},
   "source": [
    "<a id='conclusions'></a>\n",
    "## Conclusions\n",
    "\n",
    "> These are some interesting facts that we came out with. We can even summarize them and predict how to get a movie to make a hit of success between others\n",
    " >> 1) The runtime duration must be around 150 minutes.<br/>\n",
    " >> 2) To make the movie get more views, it must include any of the following genres: Drama, Comedy, Thriller, Action, Romance.<br/>\n",
    " >> 3) To make the movie more popular, it must include any of the following genres: Adventure, Fantasy, Science Fiction.<br/>\n",
    " >> 4) The top 5 casters should be in the cast: Robert De Niro, or Bruce Willis, or Tom Hanks, or Tom Cruise, or Samuel L. Jackson, or Brad Pitt.<br/>\n",
    ">\n",
    "> Having a movie with these characteristics, It can make a success hit with a very high profit."
   ]
  },
  {
   "cell_type": "markdown",
   "metadata": {},
   "source": [
    "## Limitations\n",
    "\n",
    "> 1) Removing many columns of NAN fields decreased the accuracy of the overall analysis.<br/>\n",
    "> 2) Considering dollar as the unit currency for budgets, revenues, and profits. Movies might be released in other countries with different currencies.<br/>\n",
    "> 3) The conclusion is not 100% guaranteed but it gives high propability that the movie can make a hit using these characteristics.<br/>\n",
    "> 4) During analysis, I splitted the columns whose data seperated by pipelines (|) and used this method in loops and collected some outputs in dictionaries to easily parse the data, But it increases the time of obtaining the results."
   ]
  }
 ],
 "metadata": {
  "kernelspec": {
   "display_name": "Python 3",
   "language": "python",
   "name": "python3"
  },
  "language_info": {
   "codemirror_mode": {
    "name": "ipython",
    "version": 3
   },
   "file_extension": ".py",
   "mimetype": "text/x-python",
   "name": "python",
   "nbconvert_exporter": "python",
   "pygments_lexer": "ipython3",
   "version": "3.8.3"
  }
 },
 "nbformat": 4,
 "nbformat_minor": 2
}
